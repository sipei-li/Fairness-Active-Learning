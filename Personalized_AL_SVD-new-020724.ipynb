{
 "cells": [
  {
   "cell_type": "markdown",
   "id": "98eea674-8c63-4f22-a507-be6dd61393b6",
   "metadata": {},
   "source": [
    "# Library Import"
   ]
  },
  {
   "cell_type": "code",
   "execution_count": 1,
   "id": "ee55cb8e",
   "metadata": {
    "tags": []
   },
   "outputs": [],
   "source": [
    "from surprise import Dataset\n",
    "from surprise import Reader\n",
    "from surprise import accuracy\n",
    "from surprise.model_selection import cross_validate\n",
    "from surprise.model_selection import train_test_split\n",
    "from surprise.model_selection import KFold\n",
    "from surprise.model_selection import GridSearchCV\n",
    "from surprise import SVD, NMF, KNNWithZScore, KNNWithMeans\n",
    "from surprise import AlgoBase\n",
    "\n",
    "from scipy import sparse\n",
    "\n",
    "import matplotlib.pyplot as plt\n",
    "%matplotlib inline\n",
    "\n",
    "import os\n",
    "# import sys\n",
    "import math\n",
    "import statistics\n",
    "import collections\n",
    "\n",
    "import sklearn as sk\n",
    "from sklearn.metrics.pairwise import euclidean_distances\n",
    "from sklearn.metrics import mean_squared_error\n",
    "from sklearn.decomposition import NMF, TruncatedSVD\n",
    "import numpy as np\n",
    "import pandas as pd\n",
    "\n",
    "import random\n",
    "my_seed = 0\n",
    "random.seed(my_seed)\n",
    "np.random.seed(my_seed)\n",
    "\n",
    "import datetime\n",
    "from datetime import datetime\n",
    "from time import time\n",
    "import timeit\n",
    "\n",
    "import math"
   ]
  },
  {
   "cell_type": "code",
   "execution_count": 2,
   "id": "b6f20f72",
   "metadata": {
    "tags": []
   },
   "outputs": [
    {
     "name": "stdout",
     "output_type": "stream",
     "text": [
      "3.8.18\n"
     ]
    }
   ],
   "source": [
    "from platform import python_version\n",
    "\n",
    "print(python_version())"
   ]
  },
  {
   "cell_type": "markdown",
   "id": "897fa6eb",
   "metadata": {},
   "source": [
    "# Rating Data Overwrite for 'userfixed' data split feature."
   ]
  },
  {
   "cell_type": "markdown",
   "id": "9b848417",
   "metadata": {},
   "source": [
    "Splitting the data using the userfixed method, where 80% of each user's data goes to training and the rest to testing set. Surprises split method is randomly. Their method is extended below.m"
   ]
  },
  {
   "cell_type": "code",
   "execution_count": 3,
   "id": "590b89a5",
   "metadata": {
    "tags": []
   },
   "outputs": [],
   "source": [
    "class RatingDataset:\n",
    "    import numpy as np\n",
    "    from scipy import sparse\n",
    "    \n",
    "    def __init__(self):\n",
    "        self.rating_mat = None\n",
    "        # self.time_mat = None\n",
    "        self._data_file_path = ''\n",
    "        \n",
    "        # list of raw user_IDs (dataset IDs)\n",
    "        self.items = []\n",
    "        self.users = []\n",
    "        self.item_n = 0\n",
    "        self.user_n = 0\n",
    "        \n",
    "        # maps raw user_id to user_iid(or inner id)\n",
    "        self.user_to_iid = {}\n",
    "        # maps user inner id to dataset raw ID\n",
    "        self.user_to_ID = {}\n",
    "        # maps raw item_id (dataset) to item_iid(or inner id)\n",
    "        self.item_to_iid = {}\n",
    "        # maps item inner id to dataset raw ID\n",
    "        self.item_to_ID = {}\n",
    "        \n",
    "        # list of triples of (item, rating, timestamp) for each user_iid. \n",
    "        # TODO: In case there were no Timestamp in the data, pairs of (item, rating) will be kept\n",
    "        self.user_ratings = []\n",
    "        # list of pair of (user, rating) for each item_iid\n",
    "        self.item_ratings = []\n",
    "        \n",
    "        \n",
    "    def __get_line_format_indices(self, line_format):\n",
    "        # specifying the order of 'user, item, rating, timestamp' in each line \n",
    "        lf_sp = line_format.split(' ')\n",
    "        # if len(lf_sp) != 4:\n",
    "        #     raise Exception('''Bad line format!\n",
    "        #     line_format should be space-separated and it should always specified by \n",
    "        #     \"user item rating timestamp\" with any order!''')\n",
    "        user_idx = -1\n",
    "        item_idx = -1\n",
    "        rating_idx = -1\n",
    "        # timestamp_idx = -1\n",
    "        for c in range(len(lf_sp)):\n",
    "            if lf_sp[c] == 'user':\n",
    "                user_idx = c\n",
    "            elif lf_sp[c] == 'item':\n",
    "                item_idx = c\n",
    "            elif lf_sp[c] == 'rating':\n",
    "                rating_idx = c\n",
    "            # elif lf_sp[c] == 'timestamp':\n",
    "            #     timestamp_idx = c\n",
    "            else:\n",
    "                raise Exception('line_format must be exactly dictated by one of: (user/item/rating/timestamp) separated by sep!')\n",
    "        \n",
    "        # return user_idx, item_idx, rating_idx, timestamp_idx\n",
    "        return user_idx, item_idx, rating_idx\n",
    "    \n",
    "    \n",
    "    '''\n",
    "        Read the rating data from file and parse it and then make the dataset.\n",
    "    '''\n",
    "    # def read_from_file(self, data_fn, skip_lines=0, sep=',', line_format='user item rating timestamp'):\n",
    "    def read_from_file(self, data_fn, skip_lines=0, sep=',', line_format='user item rating'):\n",
    "        \n",
    "        # user_fmt_idx, item_fmt_idx, rating_fmt_idx, timestamp_fmt_idx = self.__get_line_format_indices(line_format)\n",
    "        user_fmt_idx, item_fmt_idx, rating_fmt_idx = self.__get_line_format_indices(line_format)\n",
    "        \n",
    "        file = open(data_fn, 'r')\n",
    "        \n",
    "        # skip lines that are specified from input\n",
    "        for _ in range(skip_lines):\n",
    "            file.readline()\n",
    "            \n",
    "        # users list as in input file\n",
    "        users_lin = []\n",
    "        items_lin = []\n",
    "        ratings_lin = []\n",
    "        # timestamps_lin = []\n",
    "        for l in file:\n",
    "            lsp = l.split(sep)\n",
    "            user_id = lsp[user_fmt_idx]\n",
    "            item_id = lsp[item_fmt_idx]\n",
    "            rating = float(lsp[rating_fmt_idx])\n",
    "            # timestamp = int(lsp[timestamp_fmt_idx].strip('\\n'))\n",
    "            \n",
    "            users_lin.append(user_id)\n",
    "            items_lin.append(item_id)\n",
    "            ratings_lin.append(rating)\n",
    "            # timestamps_lin.append(timestamp)\n",
    "            \n",
    "        self.users = list(set(users_lin))\n",
    "        self.items = list(set(items_lin))\n",
    "        \n",
    "        self.user_n = len(self.users)\n",
    "        self.item_n = len(self.items)\n",
    "        \n",
    "        '''note that raw ids are in STRING format, and the iid in INTEGER format!'''\n",
    "        # set the mappings\n",
    "        for idx in range(self.user_n): \n",
    "            self.user_to_iid[self.users[idx]] = idx\n",
    "            \n",
    "        for idx in range(self.user_n):\n",
    "            self.user_to_ID[idx] = self.users[idx] \n",
    "            \n",
    "        for idx in range(self.item_n):\n",
    "            self.item_to_iid[self.items[idx]] = idx \n",
    "            \n",
    "        for idx in range(self.item_n):\n",
    "            self.item_to_ID[idx] = self.items[idx] \n",
    "        \n",
    "        # init rating matrix\n",
    "        self.rating_mat = sparse.lil_matrix((self.user_n, self.item_n))\n",
    "        # self.time_mat = sparse.lil_matrix((self.user_n, self.item_n))\n",
    "        for idx in range(len(users_lin)):\n",
    "            user_iid = self.user_to_iid[users_lin[idx]]\n",
    "            item_iid = self.item_to_iid[items_lin[idx]]\n",
    "            rating = ratings_lin[idx]\n",
    "            self.rating_mat[user_iid, item_iid] = rating\n",
    "            # self.time_mat[user_iid, item_iid] = timestamps_lin[idx]\n",
    "            \n",
    "            \n",
    "    def list_users_ratings(self, rating_matrix):\n",
    "        # finding the user and item ratings\n",
    "        user_ratings = []\n",
    "        for user_iid in range(self.user_n):\n",
    "            # append a list for this user\n",
    "            user_ratings.append([])\n",
    "            user_nonze = np.nonzero(rating_matrix[user_iid])\n",
    "            for item_iid in user_nonze[1]:\n",
    "                # add items and its rating into the last user added to the list\n",
    "                user_ratings[-1].append((item_iid, rating_matrix[user_iid, item_iid]))\n",
    "                if rating_matrix[user_iid, item_iid] == 0:\n",
    "                    raise Exception('Found zero rating in nonzero ratings of user with inner id %d and item iid %d!' % (user_iid, item_iid))\n",
    "        return user_ratings\n",
    "    \n",
    "            \n",
    "    def list_items_ratings(self, rating_matrix):\n",
    "        item_ratings = []\n",
    "        for item_iid in range(self.item_n):\n",
    "            # append a list for this item\n",
    "            item_ratings.append([])\n",
    "            item_nonze = np.nonzero(rating_matrix.T[item_iid])\n",
    "            for user_iid in item_nonze[1]:\n",
    "                # add users and its rating into the last item added to the list\n",
    "                item_ratings[-1].append((user_iid, rating_matrix[user_iid, item_iid]))\n",
    "                if rating_matrix[user_iid, item_iid] == 0:\n",
    "                    raise Exception('Found zero rating in nonzero ratings of user with inner id %d and item iid %d!' % (user_iid, item_iid))\n",
    "        return item_ratings\n",
    "        \n",
    "            \n",
    "    def train_test_split(self, test_percent=0.2, least_userlen_test=10):\n",
    "        if test_percent > 1:\n",
    "            raise Exception('test_percent should be between 0 and 1.')\n",
    "            \n",
    "        user_ratings = self.list_users_ratings(self.rating_mat)\n",
    "        \n",
    "        mat = sparse.lil_matrix((self.user_n, self.item_n))\n",
    "        user_tests = {}\n",
    "        n_users_in_test = 0\n",
    "        n_ratings_in_test = 0\n",
    "        n_ratings_in_train = 0\n",
    "        \n",
    "        for user_iid in range(self.user_n):\n",
    "            len_u = len(user_ratings[user_iid])\n",
    "            if len_u >= least_userlen_test:\n",
    "                n_users_in_test += 1\n",
    "                test_len = int(len_u * test_percent)\n",
    "                test_set_u = list(range(len_u))\n",
    "#                 print(test_len, len_u)\n",
    "                random.shuffle(test_set_u)\n",
    "                \n",
    "                train_set_u = test_set_u[test_len:][:]\n",
    "                test_set_u = test_set_u[:test_len][:]\n",
    "                \n",
    "#                 print(len(train_set_u))\n",
    "                \n",
    "                for ir_idx in train_set_u:\n",
    "                    # ir = the pair of (item, rating)\n",
    "                    ir = user_ratings[user_iid][ir_idx]\n",
    "                    mat[user_iid, ir[0]] = ir[1]\n",
    "                    n_ratings_in_train += 1\n",
    "                \n",
    "                user_tests[user_iid] = []\n",
    "                for ir_idx in test_set_u:\n",
    "                    # ir = the pair of (item, rating)\n",
    "                    ir = user_ratings[user_iid][ir_idx]\n",
    "                    user_tests[user_iid].append(ir)\n",
    "                    n_ratings_in_test += 1\n",
    "                    \n",
    "            else: # if no test set should be seprated from ratings of this user\n",
    "                for ir in user_ratings[user_iid]:\n",
    "                    # ir = the pair of (item, rating)\n",
    "                    mat[user_iid, ir[0]] = ir[1]\n",
    "                    n_ratings_in_train += 1\n",
    "    \n",
    "        print('\\nNumber of users with some items in testset: %d' % n_users_in_test)\n",
    "        print('Number of ratings in trainset: %d \\t Number of ratings in testset: %d\\n' % (n_ratings_in_train, n_ratings_in_test))\n",
    "        return mat, user_tests\n",
    "    \n",
    "    def cross_validate(self, n_splits=5):\n",
    "\n",
    "        user_ratings = self.list_users_ratings(self.rating_mat)\n",
    "        len_user_ratings = {u:len(user_ratings[0]) for u in range(self.user_n)}\n",
    "        user_indices = {}\n",
    "        for u in range(self.user_n):\n",
    "            indices = list(range(len_user_ratings[u]))\n",
    "            random.shuffle(indices)\n",
    "            user_indices[u] = indices\n",
    "\n",
    "        \n",
    "        user_start = {}\n",
    "        user_stop = {}\n",
    "        for u in range(self.user_n):\n",
    "            user_start[u] = 0\n",
    "            user_stop[u] = 0\n",
    "\n",
    "\n",
    "        for fold_i in range(n_splits):\n",
    "            train_mat = sparse.lil_matrix((self.user_n, self.item_n))\n",
    "            user_tests = {}\n",
    "\n",
    "            for u in range(self.user_n):\n",
    "                user_start[u] = user_stop[u]\n",
    "                user_stop += len_user_ratings[u] // n_splits\n",
    "                if fold_i < len_user_ratings[u] % n_splits:\n",
    "                    user_stop += 1\n",
    "                \n",
    "                train_set_indices = user_indices[u][:user_start[u]] + user_indices[u][user_stop[u]:]\n",
    "                test_set_indices = user_indices[u][user_start[u]:user_stop[u]]\n",
    "\n",
    "                for ir_idx in train_set_indices:\n",
    "                    ir = user_ratings[u][ir_idx]\n",
    "                    train_mat[u, ir[0]] = ir[1]\n",
    "                \n",
    "                user_tests[u] = []\n",
    "                for ir_idx in test_set_indices:\n",
    "                    ir = user_ratings[u][ir_idx]\n",
    "                    user_tests[u].append(ir)\n",
    "\n",
    "            yield train_mat, user_tests\n",
    "                \n",
    "\n"
   ]
  },
  {
   "cell_type": "markdown",
   "id": "54be0f7a",
   "metadata": {},
   "source": [
    "# Data import"
   ]
  },
  {
   "cell_type": "code",
   "execution_count": 4,
   "id": "78ee879d",
   "metadata": {
    "tags": []
   },
   "outputs": [],
   "source": [
    "\n",
    "df = pd.read_csv('./Data/ml-100k/u.data', \n",
    "                 sep=\"\\t\", header=None, engine=\"python\", index_col=False,\n",
    "                 names=['user', 'item', 'rating', 'timestamp'])\n",
    "\n",
    "user = pd.read_csv('./Data/ml-100k/u.user', \n",
    "                   sep=\"|\", header=None, engine =\"python\", \n",
    "                   names = ['id','age', 'gender', 'occupation', 'zipcode'])\n",
    "\n",
    "genre = pd.read_csv('./Data/ml-100k/u.genre', \n",
    "                    sep=\"|\", header=None, engine = \"python\", \n",
    "                    names = ['genre', 'id'])"
   ]
  },
  {
   "cell_type": "code",
   "execution_count": null,
   "id": "cff208b8-08b2-4e80-a6bd-a69655edc837",
   "metadata": {
    "tags": []
   },
   "outputs": [],
   "source": []
  },
  {
   "cell_type": "markdown",
   "id": "c9f8ac59",
   "metadata": {},
   "source": [
    "# ncore - dimentionality reduction"
   ]
  },
  {
   "cell_type": "code",
   "execution_count": 5,
   "id": "9bea431f",
   "metadata": {
    "tags": []
   },
   "outputs": [],
   "source": [
    "\n",
    "n_core = 5  # minimal number of ratings\n",
    "\n",
    "# filter_items = df['item'].value_counts() > n_core\n"
   ]
  },
  {
   "cell_type": "code",
   "execution_count": 6,
   "id": "d967a89b",
   "metadata": {
    "tags": []
   },
   "outputs": [
    {
     "name": "stdout",
     "output_type": "stream",
     "text": [
      "The original data frame shape:\t(100000, 4)\n",
      "The new data frame shape:\t(99032, 4)\n",
      "\n",
      "The original data frame shape:\t(99032, 4)\n",
      "The new data frame shape:\t(99032, 4)\n",
      "\n",
      "(99032, 4)\n",
      "   user  item  rating  timestamp\n",
      "0   196   242       3  881250949\n",
      "1   186   302       3  891717742\n",
      "2    22   377       1  878887116\n",
      "3   244    51       2  880606923\n",
      "4   166   346       1  886397596\n",
      "\n",
      "#users:  (943,)\n",
      "#items:  (1298,)\n"
     ]
    }
   ],
   "source": [
    "# To reduce the dimensionality of the dataset,\n",
    "# we will filter out rarely rated movies and rarely rating users\n",
    "\n",
    "min_ratings = n_core\n",
    "min_user_ratings = n_core\n",
    "\n",
    "init_df = df\n",
    "init_shp = df.shape[0]\n",
    "filt_shp = 0.0\n",
    "\n",
    "while True:\n",
    "\n",
    "    filter_items = init_df['item'].value_counts() > min_ratings\n",
    "    filter_items = filter_items[filter_items == True].index.tolist()\n",
    "\n",
    "    filter_users = init_df['user'].value_counts() > min_user_ratings\n",
    "    filter_users = filter_users[filter_users == True].index.tolist()\n",
    "\n",
    "    filt_df = init_df[(init_df['item'].isin(filter_items)) & (init_df['user'].isin(filter_users))]\n",
    "\n",
    "    print('The original data frame shape:\\t{}'.format(init_df.shape))\n",
    "    print('The new data frame shape:\\t{}'.format(filt_df.shape))\n",
    "    print()\n",
    "    \n",
    "    init_shp = init_df.shape[0]\n",
    "    filt_shp = filt_df.shape[0]\n",
    "    \n",
    "    # print(init_shp, filt_shp)\n",
    "    \n",
    "    if (init_shp == filt_shp):\n",
    "        break\n",
    "    \n",
    "    init_df = filt_df\n",
    "\n",
    "    \n",
    "#------------------------------------------------------------\n",
    "'Updating the df to its filtered version'\n",
    "'Now filt-df is called df.' \n",
    "df = filt_df\n",
    "print(filt_df.shape)\n",
    "print(df.head())\n",
    "\n",
    "print()\n",
    "print('#users: ', np.unique(df['user']).shape)\n",
    "print('#items: ', np.unique(df['item']).shape)\n"
   ]
  },
  {
   "cell_type": "code",
   "execution_count": 7,
   "id": "5eb22cf2",
   "metadata": {
    "tags": []
   },
   "outputs": [],
   "source": [
    "df.to_csv('./filtered_ml_%icore.csv'%n_core, sep=',', index=False)"
   ]
  },
  {
   "cell_type": "code",
   "execution_count": 8,
   "id": "580abf13-f66b-49b9-acf4-f218460bc5b5",
   "metadata": {
    "tags": []
   },
   "outputs": [
    {
     "data": {
      "text/plain": [
       "5"
      ]
     },
     "execution_count": 8,
     "metadata": {},
     "output_type": "execute_result"
    }
   ],
   "source": [
    "n_core"
   ]
  },
  {
   "cell_type": "markdown",
   "id": "c2e4febf-47a0-4206-a80e-0e00f31448da",
   "metadata": {},
   "source": [
    "# save & read the ncore dataset"
   ]
  },
  {
   "cell_type": "code",
   "execution_count": 9,
   "id": "dd631108-174b-43f2-be16-ee406484d063",
   "metadata": {
    "tags": []
   },
   "outputs": [
    {
     "name": "stdout",
     "output_type": "stream",
     "text": [
      "# users 943\n",
      "# items 1298\n"
     ]
    }
   ],
   "source": [
    "dataset = RatingDataset()\n",
    "data_fn = './filtered_ml_%icore.csv'%n_core\n",
    "dataset.read_from_file(data_fn, skip_lines=1, line_format='user item rating', sep=',')\n",
    "\n",
    "\n",
    "print('# users', dataset.user_n)\n",
    "print('# items', dataset.item_n)\n"
   ]
  },
  {
   "cell_type": "markdown",
   "id": "2fe1f429-259b-4245-b3fb-6cdb88d4b7d7",
   "metadata": {},
   "source": [
    "# gender preprocessing"
   ]
  },
  {
   "cell_type": "code",
   "execution_count": 10,
   "id": "378b2d7d-02a5-4797-8033-471701afb36f",
   "metadata": {
    "tags": []
   },
   "outputs": [],
   "source": [
    "# user"
   ]
  },
  {
   "cell_type": "code",
   "execution_count": 11,
   "id": "891e3086-a3ea-4f1e-88f9-3106d3e9d4b9",
   "metadata": {
    "tags": []
   },
   "outputs": [
    {
     "name": "stdout",
     "output_type": "stream",
     "text": [
      "(943, 6)\n"
     ]
    }
   ],
   "source": [
    "'The protected and the unprotected'\n",
    "\n",
    "user['is_pro'] = 0\n",
    "for i, row in user.iterrows():\n",
    "    if row['gender'] == 'F':\n",
    "        user.loc[i,'is_pro'] = 1\n",
    "        \n",
    "print(user.shape)"
   ]
  },
  {
   "cell_type": "code",
   "execution_count": 12,
   "id": "0fbab539-446e-46ab-a9bf-dcf74e4b3335",
   "metadata": {
    "tags": []
   },
   "outputs": [
    {
     "data": {
      "text/plain": [
       "0    670\n",
       "1    273\n",
       "Name: count, dtype: int64"
      ]
     },
     "execution_count": 12,
     "metadata": {},
     "output_type": "execute_result"
    }
   ],
   "source": [
    "breakbygender = pd.value_counts(user['is_pro'].values,sort=False)\n",
    "breakbygender"
   ]
  },
  {
   "cell_type": "code",
   "execution_count": 13,
   "id": "625c7574-324b-415f-a258-d7fb2890f5e7",
   "metadata": {
    "tags": []
   },
   "outputs": [
    {
     "data": {
      "text/plain": [
       "1298"
      ]
     },
     "execution_count": 13,
     "metadata": {},
     "output_type": "execute_result"
    }
   ],
   "source": [
    "dataset.item_n"
   ]
  },
  {
   "cell_type": "code",
   "execution_count": 14,
   "id": "b4096a15-c4c7-4c93-87c0-c5d9c6608696",
   "metadata": {
    "tags": []
   },
   "outputs": [
    {
     "data": {
      "text/plain": [
       "943"
      ]
     },
     "execution_count": 14,
     "metadata": {},
     "output_type": "execute_result"
    }
   ],
   "source": [
    "dataset.user_n"
   ]
  },
  {
   "cell_type": "markdown",
   "id": "8fb15e7a-14de-425f-b63a-f9b702adcba5",
   "metadata": {},
   "source": [
    "- We don't always have the same number of users in the trimmed data, so we skip those users. Since we do not have their inner ids."
   ]
  },
  {
   "cell_type": "code",
   "execution_count": 15,
   "id": "691c3ade-9b7e-4318-8544-2abb58eed3cd",
   "metadata": {
    "tags": []
   },
   "outputs": [
    {
     "name": "stdout",
     "output_type": "stream",
     "text": [
      "users skipped 0 \n",
      "\n",
      "protected users 273\n",
      "unprotected users 670\n",
      "\n"
     ]
    },
    {
     "data": {
      "text/html": [
       "<div>\n",
       "<style scoped>\n",
       "    .dataframe tbody tr th:only-of-type {\n",
       "        vertical-align: middle;\n",
       "    }\n",
       "\n",
       "    .dataframe tbody tr th {\n",
       "        vertical-align: top;\n",
       "    }\n",
       "\n",
       "    .dataframe thead th {\n",
       "        text-align: right;\n",
       "    }\n",
       "</style>\n",
       "<table border=\"1\" class=\"dataframe\">\n",
       "  <thead>\n",
       "    <tr style=\"text-align: right;\">\n",
       "      <th></th>\n",
       "      <th>id</th>\n",
       "      <th>age</th>\n",
       "      <th>gender</th>\n",
       "      <th>occupation</th>\n",
       "      <th>zipcode</th>\n",
       "      <th>is_pro</th>\n",
       "      <th>iid</th>\n",
       "    </tr>\n",
       "  </thead>\n",
       "  <tbody>\n",
       "    <tr>\n",
       "      <th>0</th>\n",
       "      <td>1</td>\n",
       "      <td>24</td>\n",
       "      <td>M</td>\n",
       "      <td>technician</td>\n",
       "      <td>85711</td>\n",
       "      <td>0</td>\n",
       "      <td>158.0</td>\n",
       "    </tr>\n",
       "    <tr>\n",
       "      <th>1</th>\n",
       "      <td>2</td>\n",
       "      <td>53</td>\n",
       "      <td>F</td>\n",
       "      <td>other</td>\n",
       "      <td>94043</td>\n",
       "      <td>1</td>\n",
       "      <td>624.0</td>\n",
       "    </tr>\n",
       "    <tr>\n",
       "      <th>2</th>\n",
       "      <td>3</td>\n",
       "      <td>23</td>\n",
       "      <td>M</td>\n",
       "      <td>writer</td>\n",
       "      <td>32067</td>\n",
       "      <td>0</td>\n",
       "      <td>894.0</td>\n",
       "    </tr>\n",
       "    <tr>\n",
       "      <th>3</th>\n",
       "      <td>4</td>\n",
       "      <td>24</td>\n",
       "      <td>M</td>\n",
       "      <td>technician</td>\n",
       "      <td>43537</td>\n",
       "      <td>0</td>\n",
       "      <td>206.0</td>\n",
       "    </tr>\n",
       "    <tr>\n",
       "      <th>4</th>\n",
       "      <td>5</td>\n",
       "      <td>33</td>\n",
       "      <td>F</td>\n",
       "      <td>other</td>\n",
       "      <td>15213</td>\n",
       "      <td>1</td>\n",
       "      <td>833.0</td>\n",
       "    </tr>\n",
       "  </tbody>\n",
       "</table>\n",
       "</div>"
      ],
      "text/plain": [
       "   id  age gender  occupation zipcode  is_pro    iid\n",
       "0   1   24      M  technician   85711       0  158.0\n",
       "1   2   53      F       other   94043       1  624.0\n",
       "2   3   23      M      writer   32067       0  894.0\n",
       "3   4   24      M  technician   43537       0  206.0\n",
       "4   5   33      F       other   15213       1  833.0"
      ]
     },
     "execution_count": 15,
     "metadata": {},
     "output_type": "execute_result"
    }
   ],
   "source": [
    "'pro & unpro data structures'\n",
    "\n",
    "global pro_users_index\n",
    "global unpro_users_index\n",
    "\n",
    "pro_users_index = []\n",
    "unpro_users_index = []\n",
    "\n",
    "\n",
    "# initializing a column\n",
    "# this is inner id or index\n",
    "user['iid'] = 0.1\n",
    "\n",
    "\n",
    "skip_c = 0\n",
    "\n",
    "for i, row in user[['id', 'is_pro']].iterrows():\n",
    "    try: \n",
    "        # user id to inner_id (index)\n",
    "        u_index = dataset.user_to_iid[str(row['id'])]\n",
    "        # print(row['id'], u_index, dataset.user_to_ID[u_index])\n",
    "\n",
    "        # just add the inner id (index) to the user dataframe\n",
    "        user.loc[user['id'] == row['id'], 'iid'] = u_index\n",
    "\n",
    "\n",
    "        if row['is_pro'] == 1:\n",
    "            # pro_users_id.append(row['id'])\n",
    "            pro_users_index.append(u_index)\n",
    "\n",
    "        else:\n",
    "            # unpro_users_id.append(row['id'])\n",
    "            unpro_users_index.append(u_index)\n",
    "    except KeyError as err:\n",
    "        skip_c += 1\n",
    "        \n",
    "        \n",
    "\n",
    "print('users skipped', skip_c, '\\n')\n",
    "print('protected users', len(pro_users_index))\n",
    "print('unprotected users', len(unpro_users_index))\n",
    "print()\n",
    "\n",
    "user.head(5)\n"
   ]
  },
  {
   "cell_type": "code",
   "execution_count": 16,
   "id": "375a28c8-16d2-415c-83ed-21f0a9d9da2d",
   "metadata": {
    "tags": []
   },
   "outputs": [
    {
     "data": {
      "text/plain": [
       "(943, 7)"
      ]
     },
     "execution_count": 16,
     "metadata": {},
     "output_type": "execute_result"
    }
   ],
   "source": [
    "user.shape"
   ]
  },
  {
   "cell_type": "markdown",
   "id": "fbc8005a-1b5b-4984-9db4-10eb228d2e0c",
   "metadata": {},
   "source": [
    "# filter users"
   ]
  },
  {
   "cell_type": "code",
   "execution_count": 17,
   "id": "000d80e3-3fe3-4738-9e30-0f29685eb755",
   "metadata": {
    "tags": []
   },
   "outputs": [
    {
     "data": {
      "text/html": [
       "<div>\n",
       "<style scoped>\n",
       "    .dataframe tbody tr th:only-of-type {\n",
       "        vertical-align: middle;\n",
       "    }\n",
       "\n",
       "    .dataframe tbody tr th {\n",
       "        vertical-align: top;\n",
       "    }\n",
       "\n",
       "    .dataframe thead th {\n",
       "        text-align: right;\n",
       "    }\n",
       "</style>\n",
       "<table border=\"1\" class=\"dataframe\">\n",
       "  <thead>\n",
       "    <tr style=\"text-align: right;\">\n",
       "      <th></th>\n",
       "      <th>id</th>\n",
       "      <th>age</th>\n",
       "      <th>gender</th>\n",
       "      <th>occupation</th>\n",
       "      <th>zipcode</th>\n",
       "      <th>is_pro</th>\n",
       "      <th>iid</th>\n",
       "    </tr>\n",
       "  </thead>\n",
       "  <tbody>\n",
       "    <tr>\n",
       "      <th>0</th>\n",
       "      <td>1</td>\n",
       "      <td>24</td>\n",
       "      <td>M</td>\n",
       "      <td>technician</td>\n",
       "      <td>85711</td>\n",
       "      <td>0</td>\n",
       "      <td>158.0</td>\n",
       "    </tr>\n",
       "    <tr>\n",
       "      <th>1</th>\n",
       "      <td>2</td>\n",
       "      <td>53</td>\n",
       "      <td>F</td>\n",
       "      <td>other</td>\n",
       "      <td>94043</td>\n",
       "      <td>1</td>\n",
       "      <td>624.0</td>\n",
       "    </tr>\n",
       "    <tr>\n",
       "      <th>2</th>\n",
       "      <td>3</td>\n",
       "      <td>23</td>\n",
       "      <td>M</td>\n",
       "      <td>writer</td>\n",
       "      <td>32067</td>\n",
       "      <td>0</td>\n",
       "      <td>894.0</td>\n",
       "    </tr>\n",
       "    <tr>\n",
       "      <th>3</th>\n",
       "      <td>4</td>\n",
       "      <td>24</td>\n",
       "      <td>M</td>\n",
       "      <td>technician</td>\n",
       "      <td>43537</td>\n",
       "      <td>0</td>\n",
       "      <td>206.0</td>\n",
       "    </tr>\n",
       "    <tr>\n",
       "      <th>4</th>\n",
       "      <td>5</td>\n",
       "      <td>33</td>\n",
       "      <td>F</td>\n",
       "      <td>other</td>\n",
       "      <td>15213</td>\n",
       "      <td>1</td>\n",
       "      <td>833.0</td>\n",
       "    </tr>\n",
       "    <tr>\n",
       "      <th>...</th>\n",
       "      <td>...</td>\n",
       "      <td>...</td>\n",
       "      <td>...</td>\n",
       "      <td>...</td>\n",
       "      <td>...</td>\n",
       "      <td>...</td>\n",
       "      <td>...</td>\n",
       "    </tr>\n",
       "    <tr>\n",
       "      <th>938</th>\n",
       "      <td>939</td>\n",
       "      <td>26</td>\n",
       "      <td>F</td>\n",
       "      <td>student</td>\n",
       "      <td>33319</td>\n",
       "      <td>1</td>\n",
       "      <td>267.0</td>\n",
       "    </tr>\n",
       "    <tr>\n",
       "      <th>939</th>\n",
       "      <td>940</td>\n",
       "      <td>32</td>\n",
       "      <td>M</td>\n",
       "      <td>administrator</td>\n",
       "      <td>02215</td>\n",
       "      <td>0</td>\n",
       "      <td>793.0</td>\n",
       "    </tr>\n",
       "    <tr>\n",
       "      <th>940</th>\n",
       "      <td>941</td>\n",
       "      <td>20</td>\n",
       "      <td>M</td>\n",
       "      <td>student</td>\n",
       "      <td>97229</td>\n",
       "      <td>0</td>\n",
       "      <td>648.0</td>\n",
       "    </tr>\n",
       "    <tr>\n",
       "      <th>941</th>\n",
       "      <td>942</td>\n",
       "      <td>48</td>\n",
       "      <td>F</td>\n",
       "      <td>librarian</td>\n",
       "      <td>78209</td>\n",
       "      <td>1</td>\n",
       "      <td>909.0</td>\n",
       "    </tr>\n",
       "    <tr>\n",
       "      <th>942</th>\n",
       "      <td>943</td>\n",
       "      <td>22</td>\n",
       "      <td>M</td>\n",
       "      <td>student</td>\n",
       "      <td>77841</td>\n",
       "      <td>0</td>\n",
       "      <td>199.0</td>\n",
       "    </tr>\n",
       "  </tbody>\n",
       "</table>\n",
       "<p>943 rows × 7 columns</p>\n",
       "</div>"
      ],
      "text/plain": [
       "      id  age gender     occupation zipcode  is_pro    iid\n",
       "0      1   24      M     technician   85711       0  158.0\n",
       "1      2   53      F          other   94043       1  624.0\n",
       "2      3   23      M         writer   32067       0  894.0\n",
       "3      4   24      M     technician   43537       0  206.0\n",
       "4      5   33      F          other   15213       1  833.0\n",
       "..   ...  ...    ...            ...     ...     ...    ...\n",
       "938  939   26      F        student   33319       1  267.0\n",
       "939  940   32      M  administrator   02215       0  793.0\n",
       "940  941   20      M        student   97229       0  648.0\n",
       "941  942   48      F      librarian   78209       1  909.0\n",
       "942  943   22      M        student   77841       0  199.0\n",
       "\n",
       "[943 rows x 7 columns]"
      ]
     },
     "execution_count": 17,
     "metadata": {},
     "output_type": "execute_result"
    }
   ],
   "source": [
    "user = user[user['iid']!=0.1]\n",
    "user"
   ]
  },
  {
   "cell_type": "markdown",
   "id": "b6a45ed9-3e20-4928-9a7f-19b95422d841",
   "metadata": {},
   "source": [
    "# MAKE SURE INNER IDS MATCH"
   ]
  },
  {
   "cell_type": "markdown",
   "id": "da565419-6c1a-4dde-9283-32f0f4c8cad5",
   "metadata": {},
   "source": [
    "## iid to gender & reverse"
   ]
  },
  {
   "cell_type": "code",
   "execution_count": 18,
   "id": "481bc243-d096-436c-b72f-45a27624158a",
   "metadata": {
    "tags": []
   },
   "outputs": [],
   "source": [
    "\n",
    "iid_to_gender = dict(zip(user.iid, user.gender))\n",
    "# gender_to_iid = dict(zip(user.gender, user.iid))\n",
    "\n",
    "id_to_gender = dict(zip(user.id, user.gender))\n",
    "# gender_to_id = dict(zip(user.gender, user.id))\n"
   ]
  },
  {
   "cell_type": "code",
   "execution_count": 19,
   "id": "23a95958-dfd6-402b-a272-84f9db93a1d9",
   "metadata": {
    "tags": []
   },
   "outputs": [],
   "source": [
    "# iid_to_gender"
   ]
  },
  {
   "cell_type": "code",
   "execution_count": 20,
   "id": "39d12521-d3ee-4f24-bcfd-60188f120bd6",
   "metadata": {
    "tags": []
   },
   "outputs": [
    {
     "data": {
      "text/plain": [
       "158"
      ]
     },
     "execution_count": 20,
     "metadata": {},
     "output_type": "execute_result"
    }
   ],
   "source": [
    "# dataset.user_to_iid[str(row['id'])]\n",
    "dataset.user_to_iid[str(1)]"
   ]
  },
  {
   "cell_type": "code",
   "execution_count": 21,
   "id": "3f82769a-4c3a-471c-ba83-f0abf1e8b0fb",
   "metadata": {
    "tags": []
   },
   "outputs": [
    {
     "data": {
      "text/plain": [
       "'1'"
      ]
     },
     "execution_count": 21,
     "metadata": {},
     "output_type": "execute_result"
    }
   ],
   "source": [
    "dataset.user_to_ID[158]"
   ]
  },
  {
   "cell_type": "markdown",
   "id": "af1fa979-d004-486d-bb84-6a3f20030763",
   "metadata": {},
   "source": [
    "## separate the predictions function"
   ]
  },
  {
   "cell_type": "code",
   "execution_count": 22,
   "id": "1e28b8aa-cf42-4f25-b625-bfa435a61522",
   "metadata": {
    "tags": []
   },
   "outputs": [],
   "source": [
    "def seperate_preds_v2(preds):\n",
    "    \n",
    "    pro_preds = []\n",
    "    unpro_preds = []\n",
    "\n",
    "    for row in preds:\n",
    "        # check here: pro_users_index consists of inner ids\n",
    "        if iid_to_gender[row.uid] == 'F':\n",
    "            pro_preds.append(row)\n",
    "        else:\n",
    "            unpro_preds.append(row)\n",
    "            \n",
    "    return pro_preds, unpro_preds"
   ]
  },
  {
   "cell_type": "code",
   "execution_count": 23,
   "id": "f49ed4d0-d8f6-4c12-b7ee-d451022657d6",
   "metadata": {
    "tags": []
   },
   "outputs": [],
   "source": [
    "def seperate_preds(preds):\n",
    "    \n",
    "    pro_preds = []\n",
    "    unpro_preds = []\n",
    "\n",
    "    for row in preds:\n",
    "        # check here: pro_users_index consists of inner ids\n",
    "        if row.uid in pro_users_index:\n",
    "            pro_preds.append(row)\n",
    "        else:\n",
    "            unpro_preds.append(row)\n",
    "            \n",
    "    return pro_preds, unpro_preds"
   ]
  },
  {
   "cell_type": "markdown",
   "id": "4085ff66-961e-4758-bf69-4c1cdf68d1f9",
   "metadata": {},
   "source": [
    "## count the pros and unpros"
   ]
  },
  {
   "cell_type": "code",
   "execution_count": 24,
   "id": "57cabf2a-924d-4289-8a3b-392605afa61c",
   "metadata": {
    "tags": []
   },
   "outputs": [],
   "source": [
    "#  not sure if I use this function at all!\n",
    "# the number of pro and unpro is the same because the test set is fixed! Their predictions might change slightly but not he count.\n",
    "def pro_unpro_count_v2(preds):\n",
    "    \n",
    "    pros= []\n",
    "    unpros =[]\n",
    "    \n",
    "    for row in preds:\n",
    "        # based on inner ids\n",
    "        if iid_to_gender[row.uid] == 'F':\n",
    "            pros.append(row.uid)\n",
    "        else:\n",
    "            unpros.append(row.uid)\n",
    "            \n",
    "    # return np.unique(pros), np.unique(unpros)\n",
    "    return len(pros), len(unpros)"
   ]
  },
  {
   "cell_type": "code",
   "execution_count": 25,
   "id": "9093f11b-d264-4f87-a374-37f17b875188",
   "metadata": {
    "tags": []
   },
   "outputs": [],
   "source": [
    "#  not sure if I use this function at all!\n",
    "def pro_unpro_count(preds):\n",
    "    \n",
    "    pros= []\n",
    "    unpros =[]\n",
    "    \n",
    "    for row in preds:\n",
    "        # based on inner ids\n",
    "        if row.uid in pro_users_index:\n",
    "            pros.append(row.uid)\n",
    "        else:\n",
    "            unpros.append(row.uid)\n",
    "            \n",
    "    return np.unique(pros), np.unique(unpros)"
   ]
  },
  {
   "cell_type": "markdown",
   "id": "ef26994c",
   "metadata": {},
   "source": [
    "# Split into test and train with the 'userfixed' method"
   ]
  },
  {
   "cell_type": "code",
   "execution_count": 26,
   "id": "8135d09f",
   "metadata": {
    "tags": []
   },
   "outputs": [
    {
     "name": "stdout",
     "output_type": "stream",
     "text": [
      "\n",
      "Number of users with some items in testset: 943\n",
      "Number of ratings in trainset: 79591 \t Number of ratings in testset: 19441\n",
      "\n",
      "(943, 1298)\n"
     ]
    }
   ],
   "source": [
    "# data = Dataset.load_from_df(df[['user', 'item', 'rating']], reader)\n",
    "\n",
    "# user_tests is the test_mat\n",
    "train_mat, test_mat = dataset.train_test_split(test_percent=0.2, least_userlen_test=10)\n",
    "\n",
    "\n",
    "# ir = the pair of (item, rating)\n",
    "# ir = user_ratings[user_iid][ir_idx]\n",
    "# user_ratings = dataset.list_users_ratings(dataset.rating_mat)\n",
    "print(dataset.rating_mat.shape)\n"
   ]
  },
  {
   "cell_type": "markdown",
   "id": "ddb5122a",
   "metadata": {},
   "source": [
    "# convert train and test into dataframes"
   ]
  },
  {
   "cell_type": "markdown",
   "id": "7e5734fa",
   "metadata": {},
   "source": [
    "## train set"
   ]
  },
  {
   "cell_type": "code",
   "execution_count": 27,
   "id": "d78c88c6",
   "metadata": {
    "tags": []
   },
   "outputs": [
    {
     "data": {
      "text/html": [
       "<div>\n",
       "<style scoped>\n",
       "    .dataframe tbody tr th:only-of-type {\n",
       "        vertical-align: middle;\n",
       "    }\n",
       "\n",
       "    .dataframe tbody tr th {\n",
       "        vertical-align: top;\n",
       "    }\n",
       "\n",
       "    .dataframe thead th {\n",
       "        text-align: right;\n",
       "    }\n",
       "</style>\n",
       "<table border=\"1\" class=\"dataframe\">\n",
       "  <thead>\n",
       "    <tr style=\"text-align: right;\">\n",
       "      <th></th>\n",
       "      <th>user</th>\n",
       "      <th>item</th>\n",
       "      <th>rating</th>\n",
       "    </tr>\n",
       "  </thead>\n",
       "  <tbody>\n",
       "    <tr>\n",
       "      <th>0</th>\n",
       "      <td>0</td>\n",
       "      <td>94</td>\n",
       "      <td>2.0</td>\n",
       "    </tr>\n",
       "    <tr>\n",
       "      <th>1</th>\n",
       "      <td>0</td>\n",
       "      <td>105</td>\n",
       "      <td>4.0</td>\n",
       "    </tr>\n",
       "    <tr>\n",
       "      <th>2</th>\n",
       "      <td>0</td>\n",
       "      <td>114</td>\n",
       "      <td>2.0</td>\n",
       "    </tr>\n",
       "    <tr>\n",
       "      <th>3</th>\n",
       "      <td>0</td>\n",
       "      <td>129</td>\n",
       "      <td>5.0</td>\n",
       "    </tr>\n",
       "    <tr>\n",
       "      <th>4</th>\n",
       "      <td>0</td>\n",
       "      <td>132</td>\n",
       "      <td>2.0</td>\n",
       "    </tr>\n",
       "  </tbody>\n",
       "</table>\n",
       "</div>"
      ],
      "text/plain": [
       "   user  item  rating\n",
       "0     0    94     2.0\n",
       "1     0   105     4.0\n",
       "2     0   114     2.0\n",
       "3     0   129     5.0\n",
       "4     0   132     2.0"
      ]
     },
     "execution_count": 27,
     "metadata": {},
     "output_type": "execute_result"
    }
   ],
   "source": [
    "user_ratings = dataset.list_users_ratings(train_mat)\n",
    "# user_ratings[0]\n",
    "\n",
    "tr_lst = []\n",
    "\n",
    "for user_iid in range(dataset.user_n): \n",
    "    # trainset or dataset.user_n?? we keep the users the same (user-fixed) so they are equal.\n",
    "    \n",
    "    if user_ratings[user_iid]:\n",
    "        base_rec = pd.DataFrame(user_ratings[user_iid])\n",
    "        base_rec[2] = user_iid\n",
    "\n",
    "        tr_lst.append(base_rec[[2,0,1]])\n",
    "    \n",
    "\n",
    "train_df = pd.concat(tr_lst, ignore_index=True)\n",
    "train_df.columns = ['user','item','rating']\n",
    "train_df.head()"
   ]
  },
  {
   "cell_type": "code",
   "execution_count": 28,
   "id": "ba9632de-17a0-4e4b-93b3-06dae93a0550",
   "metadata": {
    "tags": []
   },
   "outputs": [
    {
     "name": "stdout",
     "output_type": "stream",
     "text": [
      "(943,)\n"
     ]
    },
    {
     "data": {
      "text/plain": [
       "(1298,)"
      ]
     },
     "execution_count": 28,
     "metadata": {},
     "output_type": "execute_result"
    }
   ],
   "source": [
    "print(np.unique(train_df['user']).shape)\n",
    "np.unique(train_df['item']).shape"
   ]
  },
  {
   "cell_type": "markdown",
   "id": "a8b16df2",
   "metadata": {},
   "source": [
    "## test set"
   ]
  },
  {
   "cell_type": "code",
   "execution_count": 29,
   "id": "abed1861",
   "metadata": {
    "tags": []
   },
   "outputs": [
    {
     "data": {
      "text/html": [
       "<div>\n",
       "<style scoped>\n",
       "    .dataframe tbody tr th:only-of-type {\n",
       "        vertical-align: middle;\n",
       "    }\n",
       "\n",
       "    .dataframe tbody tr th {\n",
       "        vertical-align: top;\n",
       "    }\n",
       "\n",
       "    .dataframe thead th {\n",
       "        text-align: right;\n",
       "    }\n",
       "</style>\n",
       "<table border=\"1\" class=\"dataframe\">\n",
       "  <thead>\n",
       "    <tr style=\"text-align: right;\">\n",
       "      <th></th>\n",
       "      <th>user</th>\n",
       "      <th>item</th>\n",
       "      <th>rating</th>\n",
       "    </tr>\n",
       "  </thead>\n",
       "  <tbody>\n",
       "    <tr>\n",
       "      <th>0</th>\n",
       "      <td>0</td>\n",
       "      <td>1076</td>\n",
       "      <td>5.0</td>\n",
       "    </tr>\n",
       "    <tr>\n",
       "      <th>1</th>\n",
       "      <td>0</td>\n",
       "      <td>88</td>\n",
       "      <td>3.0</td>\n",
       "    </tr>\n",
       "    <tr>\n",
       "      <th>2</th>\n",
       "      <td>0</td>\n",
       "      <td>764</td>\n",
       "      <td>3.0</td>\n",
       "    </tr>\n",
       "    <tr>\n",
       "      <th>3</th>\n",
       "      <td>0</td>\n",
       "      <td>357</td>\n",
       "      <td>5.0</td>\n",
       "    </tr>\n",
       "    <tr>\n",
       "      <th>4</th>\n",
       "      <td>0</td>\n",
       "      <td>954</td>\n",
       "      <td>4.0</td>\n",
       "    </tr>\n",
       "  </tbody>\n",
       "</table>\n",
       "</div>"
      ],
      "text/plain": [
       "   user  item  rating\n",
       "0     0  1076     5.0\n",
       "1     0    88     3.0\n",
       "2     0   764     3.0\n",
       "3     0   357     5.0\n",
       "4     0   954     4.0"
      ]
     },
     "execution_count": 29,
     "metadata": {},
     "output_type": "execute_result"
    }
   ],
   "source": [
    "# test set to a dataframe\n",
    "test_lst = []\n",
    "\n",
    "for uiid in test_mat.keys():\n",
    "    base_rec = pd.DataFrame(test_mat[uiid])\n",
    "    base_rec[2] = uiid\n",
    "    test_lst.append(base_rec[[2,0,1]])\n",
    "\n",
    "\n",
    "test_df = pd.concat(test_lst, ignore_index=True)\n",
    "test_df.columns = ['user','item','rating']\n",
    "test_df.head()"
   ]
  },
  {
   "cell_type": "code",
   "execution_count": 30,
   "id": "445e6963-b6e9-4185-a67c-1b72e32da569",
   "metadata": {
    "tags": []
   },
   "outputs": [
    {
     "name": "stdout",
     "output_type": "stream",
     "text": [
      "(943,)\n"
     ]
    },
    {
     "data": {
      "text/plain": [
       "(1259,)"
      ]
     },
     "execution_count": 30,
     "metadata": {},
     "output_type": "execute_result"
    }
   ],
   "source": [
    "print(np.unique(test_df['user']).shape)\n",
    "np.unique(test_df['item']).shape"
   ]
  },
  {
   "cell_type": "markdown",
   "id": "14ef1b1d-f984-4f88-a92a-3aae1ec1dbc3",
   "metadata": {},
   "source": [
    "# 0.02 Known data"
   ]
  },
  {
   "cell_type": "code",
   "execution_count": 31,
   "id": "0e151c2f-f4e1-4bcd-9399-af048fb51c88",
   "metadata": {
    "tags": []
   },
   "outputs": [],
   "source": [
    "# int((0.02 * train_df.shape[0])//dataset.user_n)"
   ]
  },
  {
   "cell_type": "code",
   "execution_count": 32,
   "id": "e07d7199-c6db-4525-80f7-767210e8e24c",
   "metadata": {
    "tags": []
   },
   "outputs": [
    {
     "name": "stdout",
     "output_type": "stream",
     "text": [
      "initial ratings 2\n",
      "(1886, 3)\n",
      "# users:  (943,)\n",
      "# items:  (680,)\n",
      "# users in the training set (943,)\n",
      "# of ratings (79591, 3)\n"
     ]
    }
   ],
   "source": [
    "\n",
    "def rating_dic_to_df(rating_dic):\n",
    "    lst = []\n",
    "\n",
    "    for user_iid in range(dataset.user_n): \n",
    "    \n",
    "        if rating_dic[user_iid]:\n",
    "            res = pd.DataFrame(rating_dic[user_iid])\n",
    "            res[2] = user_iid\n",
    "\n",
    "            lst.append(res[[2,0,1]])\n",
    "    \n",
    "\n",
    "    df = pd.concat(lst, ignore_index=True)\n",
    "    df.columns = ['user','item','rating']\n",
    "    return df\n",
    "\n",
    "\n",
    "#-------------------------------------------------------------\n",
    "# the lower bound\n",
    "\n",
    "initial_n = int(round((0.02 * train_df.shape[0])/dataset.user_n))\n",
    "print('initial ratings', initial_n)\n",
    "# initial_n = 2\n",
    "\n",
    "candidate_user_ratings = dataset.list_users_ratings(train_mat)\n",
    "initial_user_ratings = {}\n",
    "\n",
    "\n",
    "for user_iid in range(dataset.user_n):\n",
    "    \n",
    "    initial_user_ratings[user_iid] = []\n",
    "    len_u = len(candidate_user_ratings[user_iid])\n",
    "    \n",
    "    if len_u >= initial_n:\n",
    "        selected_u = list(range(len_u))\n",
    "        random.shuffle(selected_u)\n",
    "        selected_u = selected_u[:initial_n][:]\n",
    "\n",
    "        for ir_idx in selected_u:\n",
    "            ir = candidate_user_ratings[user_iid][ir_idx]\n",
    "            initial_user_ratings[user_iid].append(ir)\n",
    "    \n",
    "    else: # number of ratings less than required initial number\n",
    "        selected_u = list(range(len_u))\n",
    "        random.shuffle(selected_u)\n",
    "        \n",
    "        for ir_idx in selected_u:\n",
    "            ir = candidate_user_ratings[user_iid][ir_idx]\n",
    "            initial_user_ratings[user_iid].append(ir)\n",
    "           \n",
    "            \n",
    "# initial dataset turned into a dataframe\n",
    "initial_train_df = rating_dic_to_df(initial_user_ratings)\n",
    "\n",
    "print(initial_train_df.shape)\n",
    "print('# users: ', np.unique(initial_train_df['user']).shape)\n",
    "print('# items: ', np.unique(initial_train_df['item']).shape)\n",
    "print('# users in the training set', np.unique(train_df['user']).shape)\n",
    "# now the number of users in the training, test and the initial data are the same!\n",
    "print('# of ratings', train_df.shape)\n",
    "\n"
   ]
  },
  {
   "cell_type": "markdown",
   "id": "fd24b596-6bf2-4d70-8973-c42e650a2e60",
   "metadata": {},
   "source": [
    "# TopKNN"
   ]
  },
  {
   "cell_type": "markdown",
   "id": "c70ddd25-a419-4d0f-bef3-5eee28a69b00",
   "metadata": {},
   "source": [
    "## item similarity matrix"
   ]
  },
  {
   "cell_type": "code",
   "execution_count": 33,
   "id": "95a8c249-e1cc-4c7d-9192-f8ac8719f820",
   "metadata": {
    "tags": []
   },
   "outputs": [
    {
     "name": "stdout",
     "output_type": "stream",
     "text": [
      "item user matrix: (1298, 943)\n",
      "(1298, 1298)\n",
      "item: id to mat-id 1298\n",
      "item: mat-id to id 1298\n"
     ]
    }
   ],
   "source": [
    "from sklearn.metrics.pairwise import cosine_similarity\n",
    "\n",
    "# turn into numeric values\n",
    "# avoid adding zero as the default value for the items\n",
    "itm_usr_mat = train_df.apply(pd.to_numeric).pivot(index='item', columns='user', values='rating').fillna(0.00000000000001)\n",
    "\n",
    "# itm_sim_mat\n",
    "\n",
    "print('item user matrix:', itm_usr_mat.shape)\n",
    "\n",
    "itm_sim_mat = cosine_similarity(itm_usr_mat.values)\n",
    "print(itm_sim_mat.shape)\n",
    "\n",
    "###################### Turning inner_ID to innerid for this item item similarity matrix########################\n",
    "InnerID_to_iiMatrixID = {}\n",
    "iiMatrixID_to_InnerID = {}\n",
    "\n",
    "# for all the items\n",
    "for i in range(itm_usr_mat.shape[0]):\n",
    "    iiMatrixID_to_InnerID[i] = itm_usr_mat.index[i]\n",
    "    InnerID_to_iiMatrixID[itm_usr_mat.index[i]] = i\n",
    "    \n",
    "    \n",
    "# print('id to mat-id',InnerID_to_iiMatrixID, len(InnerID_to_iiMatrixID))\n",
    "# print('mat-id to id', iiMatrixID_to_InnerID, len(iiMatrixID_to_InnerID))\n",
    "print('item: id to mat-id', len(InnerID_to_iiMatrixID))\n",
    "print('item: mat-id to id', len(iiMatrixID_to_InnerID))\n",
    "\n",
    "\n",
    "# make them accessible from everywhere!\n",
    "global InnerID_to_iiMatrixID, iiMatrixID_to_InnerID\n"
   ]
  },
  {
   "cell_type": "code",
   "execution_count": 34,
   "id": "17a81324-80e7-4b94-b3f2-9a83890c3e37",
   "metadata": {
    "tags": []
   },
   "outputs": [
    {
     "data": {
      "text/plain": [
       "1298"
      ]
     },
     "execution_count": 34,
     "metadata": {},
     "output_type": "execute_result"
    }
   ],
   "source": [
    "itm_usr_mat.shape[0]"
   ]
  },
  {
   "cell_type": "markdown",
   "id": "0194fbc5-8438-4c8b-97fa-8073cafe45c2",
   "metadata": {},
   "source": [
    "## topknn retreive function"
   ]
  },
  {
   "cell_type": "code",
   "execution_count": 35,
   "id": "919cd433-0fd4-4b67-8f5b-200e1e8ae9dd",
   "metadata": {
    "tags": []
   },
   "outputs": [],
   "source": [
    "\n",
    "def retrieve_topKnn(uid, tr_df, kwn_df, isim_mat, algo, k):\n",
    "    '''\n",
    "    We get the known ratings, and from the already rated items,\n",
    "    we pick their most similar item and feed it back to the known set later.\n",
    "    '''\n",
    "    \n",
    "    # filter the already rated items or the known ratings\n",
    "    rated_bef_df = kwn_df.loc[kwn_df['user'] == uid]\n",
    "    # print('rated before shape: ',rated_bef_df.shape)\n",
    "    # print( rated_bef_df,'\\n')\n",
    "    \n",
    "\n",
    "    # user ratings - candidate set\n",
    "    user_df_tr = tr_df[tr_df['user'] == uid]\n",
    "    # print('user ratings',user_df_tr.shape)\n",
    "    # print(user_df_tr,'\\n')\n",
    "\n",
    "\n",
    "    # remove the known ratings from the user ratings. Keep=False means delete all of the similar rows\n",
    "    user_df_tr = pd.concat([user_df_tr, rated_bef_df]).drop_duplicates(ignore_index=True, keep=False)\n",
    "    # print('candidate set no known rating',user_df_tr.shape)\n",
    "    # print(user_df_tr,'\\n')\n",
    "    \n",
    " \n",
    "    # ----------------------------------- compute nearest neighbor------------------------------------------\n",
    "    nn_l = pd.DataFrame(columns=['user','item','rating'])\n",
    "    \n",
    "\n",
    "\n",
    "    for i, row in rated_bef_df.iterrows():\n",
    "        # print (i,nn,f)\n",
    "        # print(k)\n",
    "        \n",
    "        f = 0 # flag\n",
    "        nn = 1 # the number of the nearest neighbor\n",
    "        while (f != 1) and (nn <= k):\n",
    "\n",
    "            # print('nearest neighbor:',nn)\n",
    "            # -------------------------------# raw id to inner id & reverse# ------------------------------- \n",
    "            \n",
    "            raw_iid = int(row['item'])\n",
    "            # print('item =', raw_iid,'\\n')\n",
    "            \n",
    "            # turn itemid to innerid for knn! yes, you should do it\n",
    "            item_iid = InnerID_to_iiMatrixID[raw_iid]\n",
    "            \n",
    "            \n",
    "            # returns the ids\n",
    "            nbr_iid = np.argsort(-itm_sim_mat[item_iid])[nn-1]\n",
    "            \n",
    "            \n",
    "            #nbr raw\n",
    "            nbr = iiMatrixID_to_InnerID[nbr_iid]\n",
    "            \n",
    "#             # get the neighbors\n",
    "#             # takes iid and returns also the inner ids\n",
    "#             nbr_iid = algo.get_neighbors(item_iid, nn)[nn-1]\n",
    "#             # print('nbr =', nbr,'\\n')\n",
    "            \n",
    "            # nbr raw\n",
    "            # nbr = known_sup.to_raw_iid(nbr_iid)\n",
    "            \n",
    "            # -------------------------------# nbr id to raw id # -------------------------------\n",
    "            # if the neighbor is in the candidate set, add it's rating\n",
    "            # the flag will be one if the rating of a neighbor is added to the dataframe\n",
    "            if nbr in user_df_tr['item'].values:\n",
    "                # print('adding this rating:', user_df_tr[user_df_tr['item'] == nbr],'\\n') \n",
    "                cand = user_df_tr[user_df_tr['item'] == nbr]\n",
    "                nn_l = pd.concat([nn_l, cand]).drop_duplicates(ignore_index=True)\n",
    "                f = 1\n",
    "                \n",
    "            # if you can't find a neighbor in the topk, let's look beyond the topk items\n",
    "            elif (nn == k) & (len(nn_l) == 0) & (k != itm_sim_mat.shape[0]):\n",
    "                k = itm_sim_mat.shape[0]\n",
    "                f = 0\n",
    "                \n",
    "            else:\n",
    "                # if the neighbor is already known, add to the nn so it retrieves the next nearest neighbor\n",
    "                # flag is zero because we didn't get any ratings for this rating.\n",
    "                # print('neighborhood is already known')\n",
    "                nn +=1\n",
    "                f = 0\n",
    "                # print('already existed neighbor:',nn,'\\n')\n",
    "                # print('repetition', tr_df[tr_df['item'] == nbr],'\\n') \n",
    "                \n",
    "                \n",
    "    \n",
    "    return (nn_l)"
   ]
  },
  {
   "cell_type": "markdown",
   "id": "e01705d3-47ae-4512-9b80-5f4899e24b25",
   "metadata": {},
   "source": [
    "# SVD"
   ]
  },
  {
   "cell_type": "markdown",
   "id": "e542d2c4-2509-4e0a-9dc3-6d489accfcfd",
   "metadata": {},
   "source": [
    "## svd retreive function"
   ]
  },
  {
   "cell_type": "markdown",
   "id": "a7cd3f7e-351b-4aba-be26-f74d99eef1ec",
   "metadata": {},
   "source": [
    "the issue is that if the data is changed, the inner, outer ids will also change! so we need to be careful about that!"
   ]
  },
  {
   "cell_type": "code",
   "execution_count": 41,
   "id": "8ddfc660-e2ef-4f81-a317-97071dcffb7a",
   "metadata": {
    "tags": []
   },
   "outputs": [
    {
     "data": {
      "text/plain": [
       "2.220446049250313e-16"
      ]
     },
     "execution_count": 41,
     "metadata": {},
     "output_type": "execute_result"
    }
   ],
   "source": [
    "import sys\n",
    "sys.float_info.epsilon"
   ]
  },
  {
   "cell_type": "code",
   "execution_count": 42,
   "id": "28033ac3-0ae8-48ee-93a6-230196732eaf",
   "metadata": {
    "tags": []
   },
   "outputs": [],
   "source": [
    "\n",
    "def retrieve_topk(uid, tr_df, kwn_df, kwn_sup, algo, topk, strt='MaxRating'):\n",
    "    '''\n",
    "    take the user inner id and retrieve the estimations from the surprise predictions.\n",
    "    sort the predictions and find the top recommended items to add to the known set.\n",
    "    '''\n",
    "\n",
    "    # user ratings\n",
    "    user_df_tr = tr_df[tr_df['user'] == uid]\n",
    "    # print(user_df_tr.shape) \n",
    "\n",
    "\n",
    "    # filter the already rated items or the known ratings\n",
    "    rated_bef_df = kwn_df.loc[kwn_df['user'] == uid]\n",
    "    # print(rated_bef_df.shape)\n",
    "\n",
    "\n",
    "    # remove the known ratings from the user ratings. Keep=False means delete all of the similar rows\n",
    "    user_df_tr = pd.concat([user_df_tr, rated_bef_df]).drop_duplicates(ignore_index=True, keep=False)\n",
    "    # print(user_df_tr.shape)\n",
    "\n",
    "\n",
    "    # assign a new column\n",
    "    user_df_tr = user_df_tr.assign(**dict.fromkeys(['est'], sys.float_info.epsilon))\n",
    "    # print(user_df_tr.head())\n",
    "    \n",
    "\n",
    "    # some of these items are new, so the algorithm has no prediction for them\n",
    "    # therefore, itemid might not exist in the predictions for a user.\n",
    "    # if item is known, the rating will be added, otherwise, skip\n",
    "    # e = 0\n",
    "    # ne = 0\n",
    "    for i, row in user_df_tr.iterrows():\n",
    "        # print(i, row)\n",
    "        \n",
    "        try:\n",
    "            # --------------------------- we turn the ids into inner ids --------------------------------------\n",
    "            u_iid = kwn_sup.to_inner_uid(row['user'])\n",
    "            i_iid = kwn_sup.to_inner_iid(row['item'])\n",
    "\n",
    "            est = algo.predict(u_iid, i_iid, r_ui=row['rating'], verbose=False)[3] # give me just the estimation\n",
    "            user_df_tr.loc[i, 'est'] += est\n",
    "            # ne+=1\n",
    "            \n",
    "        except ValueError as err:\n",
    "            # print('ERROR! Skip becuase', err)\n",
    "            # e += 1\n",
    "            pass\n",
    "\n",
    "    # print('# of ratings added', ne)\n",
    "    # print('# ratings did not added', e)\n",
    "    \n",
    "\n",
    "    # Sorted based on the lowest or highest predicted values\n",
    "    if (strt == 'MaxRating') or ('MaxRating' in strt):\n",
    "        user_df_sorted = user_df_tr.sort_values(by='est', ascending=False)\n",
    "        \n",
    "        \n",
    "    elif strt == 'MinRating':\n",
    "        user_df_sorted = user_df_tr.sort_values(by='est', ascending=True)\n",
    "        # user_df_tr = user_df_tr.assign(**dict.fromkeys(['max-r'], 0.))\n",
    "        # user_df_tr['max-r'] = 5. - user_df_tr['est']\n",
    "        # user_df_sorted = user_df_tr.sort_values(by='max-r', ascending=False)\n",
    "        \n",
    "        \n",
    "    elif (strt == 'MixedRating'):\n",
    "        # mixed rating strategy\n",
    "        if topk%2!=0:\n",
    "            print('Warning: Choose a K that is dividable by 2!')\n",
    "            exit;\n",
    "        \n",
    "        k = int(topk/2)       \n",
    "        high_df = user_df_tr.sort_values(by='est', ascending=False)\n",
    "        low_df = user_df_tr.sort_values(by='est', ascending=True)\n",
    "        \n",
    "        user_df_sorted = pd.concat([high_df[:k], low_df[:k]])\n",
    "     \n",
    "    \n",
    "    elif strt == 'Random':\n",
    "        # Random choice \n",
    "        # from the pool of interested items (candidate pool)\n",
    "        # if the data frame is smaller than k, return all of the dataframe\n",
    "        if len(user_df_tr) >= topk:\n",
    "            user_df_sorted = user_df_tr.sample(topk)\n",
    "        else:\n",
    "            # print(user_df_tr)\n",
    "            user_df_sorted = user_df_tr\n",
    "           \n",
    "    else:\n",
    "        print('Error: Choose a strategy!')\n",
    "        exit;\n",
    "        \n",
    "    \n",
    "    return (user_df_sorted[:topk])"
   ]
  },
  {
   "cell_type": "markdown",
   "id": "2d44c408-b79b-41e8-9d3d-2671f1056e6a",
   "metadata": {},
   "source": [
    "# The Active Learning Process - Personalized"
   ]
  },
  {
   "cell_type": "markdown",
   "id": "ac468e11-7668-40ff-9b8d-31c99e9fc82e",
   "metadata": {},
   "source": [
    "## Query or Window"
   ]
  },
  {
   "cell_type": "code",
   "execution_count": 43,
   "id": "1eadc3d3-3b43-4e84-bcf3-0fb4fd309307",
   "metadata": {
    "tags": []
   },
   "outputs": [],
   "source": [
    "w = 10   # window of w items (our queries)\n",
    "topk = w"
   ]
  },
  {
   "cell_type": "markdown",
   "id": "23510120-4968-426f-8f15-1b0e26ef3fbf",
   "metadata": {},
   "source": [
    "# Active Learning: SVD"
   ]
  },
  {
   "cell_type": "markdown",
   "id": "646b2c61-f74b-4c89-b384-b91d3bb1abca",
   "metadata": {},
   "source": [
    "## n_epochs"
   ]
  },
  {
   "cell_type": "code",
   "execution_count": 44,
   "id": "3cdc805b-2020-4178-8339-d6ff2797eeda",
   "metadata": {
    "tags": []
   },
   "outputs": [],
   "source": [
    "n_epochs = 25"
   ]
  },
  {
   "cell_type": "markdown",
   "id": "3ffc19cf-d24b-4918-9905-bd26064bcc65",
   "metadata": {},
   "source": [
    "## 1. SVD"
   ]
  },
  {
   "cell_type": "code",
   "execution_count": 45,
   "id": "d48eaddb-85b0-46bd-98f7-537b3a38afa6",
   "metadata": {
    "tags": []
   },
   "outputs": [],
   "source": [
    "reader = Reader(rating_scale=(1, 5))\n",
    "\n",
    "# got the best(lowest) results of 0.86\n",
    "svd_sup = SVD(n_epochs = 100, n_factors = 100, lr_all=0.005, reg_all=0.1, verbose = False, random_state=41023)\n"
   ]
  },
  {
   "cell_type": "code",
   "execution_count": 43,
   "id": "bbe54ac2-7b60-4a90-92bf-2e8c1ef3e962",
   "metadata": {
    "tags": []
   },
   "outputs": [
    {
     "name": "stderr",
     "output_type": "stream",
     "text": [
      "while loop: 100%|██████████| 130/130 [21:35<00:00,  9.97s/it]\n",
      "while loop: 100%|██████████| 130/130 [21:57<00:00, 10.13s/it]\n",
      "while loop: 100%|██████████| 130/130 [25:38<00:00, 11.84s/it]\n",
      "while loop: 100%|██████████| 130/130 [26:03<00:00, 12.03s/it]\n"
     ]
    }
   ],
   "source": [
    "if __name__ == \"__main__\":\n",
    "    \n",
    "        \n",
    "    from tqdm import tqdm\n",
    "    import multiprocess as mp\n",
    "\n",
    "        \n",
    "    def comp_paral(strat):\n",
    "        #-------------------------DATA STRUCTURES---------------------------------\n",
    "        rmse = []\n",
    "        rmse_pro = []\n",
    "        rmse_unpro = []\n",
    "\n",
    "        pro_c = []\n",
    "        unpro_c = []\n",
    "\n",
    "\n",
    "        #-------------------------test set---------------------------------\n",
    "        # build the test set\n",
    "        testset = Dataset.load_from_df(test_df[['user', 'item', 'rating']], reader).build_full_trainset().build_testset()\n",
    "\n",
    "\n",
    "        #---------------------------KNOWN_DF-------------------------------\n",
    "        # the known set, a part of the training set\n",
    "        known_df = initial_train_df\n",
    "        known_sup = Dataset.load_from_df(known_df[['user', 'item', 'rating']], reader).build_full_trainset()\n",
    "\n",
    "\n",
    "        #---------------------------FIT THE MODEL------------------\n",
    "        # fit to the known data first\n",
    "        svd_sup.fit(known_sup)\n",
    "\n",
    "        # predictions\n",
    "        init_preds = svd_sup.test(testset) # ****\n",
    "\n",
    "\n",
    "        # get the RMSE\n",
    "        init_rmse = accuracy.rmse(init_preds, verbose=False) # ****\n",
    "        # rmse_d[strat].append(init_acc) # ****\n",
    "\n",
    "        rmse.append(init_rmse)\n",
    "        # pro_, unpro_ = seperate_preds(init_preds)\n",
    "        pro_, unpro_ = seperate_preds_v2(init_preds) # new sep preds\n",
    "        rmse_pro.append(accuracy.rmse(pro_, verbose=False))\n",
    "        rmse_unpro.append(accuracy.rmse(unpro_, verbose=False))\n",
    "\n",
    "\n",
    "        # pro/unpro count\n",
    "        # pro_c.append(known_df[known_df['user'].isin(pro_users_index)].shape[0])\n",
    "        # unpro_c.append(known_df[~known_df['user'].isin(pro_users_index)].shape[0])\n",
    "        pc = np.sum([1 if iid_to_gender[row.user] == 'F' else 0 for row in known_df.itertuples()])\n",
    "        upc = known_df.shape[0] - pc\n",
    "        pro_c.append(pc)\n",
    "        unpro_c.append(upc)\n",
    "\n",
    "        #------------------------EPOCHS----------------------------------\n",
    "        epoch = 0\n",
    "\n",
    "\n",
    "        pbar = tqdm(desc='while loop', total=n_epochs)\n",
    "        while epoch < n_epochs:\n",
    "            for uid in range(dataset.user_n):\n",
    "\n",
    "                #------------------------ recommendations-----------------------\n",
    "                u_preds = retrieve_topk(uid, train_df, known_df, known_sup, svd_sup, topk, strat)\n",
    "\n",
    "                #------------------------ update known_df -------------------------\n",
    "                # known_df will turn into known sup to be readable for surprise\n",
    "                known_df = pd.concat([known_df, u_preds[['user','item','rating']]]).drop_duplicates()\n",
    "\n",
    "\n",
    "                # print(known_df.shape)\n",
    "            #------------------------ evaluate this iteration -------------------------\n",
    "            # print(len(known_df), known_df.head(-10))\n",
    "            known_sup = Dataset.load_from_df(known_df[['user', 'item', 'rating']], reader).build_full_trainset()\n",
    "            svd_sup.fit(known_sup)\n",
    "            iter_preds = svd_sup.test(testset)\n",
    "            iter_rmse = accuracy.rmse(iter_preds, verbose=False) # ****\n",
    "            # rmse_d[strat].append(iter_rmse) # ****\n",
    "\n",
    "\n",
    "            rmse.append(iter_rmse)\n",
    "            # pro_, unpro_ = seperate_preds(iter_preds)\n",
    "            pro_, unpro_ = seperate_preds_v2(iter_preds) ## new function\n",
    "            rmse_pro.append(accuracy.rmse(pro_, verbose=False))\n",
    "            rmse_unpro.append(accuracy.rmse(unpro_, verbose=False))\n",
    "\n",
    "\n",
    "            # accumulative\n",
    "            # pro/unpro count\n",
    "            # pro_c.append(known_df[known_df['user'].isin(pro_users_index)].shape[0])\n",
    "            # unpro_c.append(known_df[~known_df['user'].isin(pro_users_index)].shape[0])\n",
    "            pc = np.sum([1 if iid_to_gender[row.user] == 'F' else 0 for row in known_df.itertuples()])\n",
    "            upc = known_df.shape[0] - pc\n",
    "            pro_c.append(pc)\n",
    "            unpro_c.append(upc)\n",
    "            \n",
    "            #------------------------ next iteration -------------------------\n",
    "            epoch += 1\n",
    "            pbar.update(1)\n",
    "\n",
    "\n",
    "        pbar.close()\n",
    "        return(strat, {'rmse':rmse, 'rmse_pro':rmse_pro, 'rmse_unpro': rmse_unpro, 'c_pro':pro_c, 'c_unpro':unpro_c})\n",
    "\n",
    "\n",
    "    # strtgs = {'MixedRating':{}, 'MinRating':{}, 'MaxRating':{}, 'Random': {}}\n",
    "\n",
    "    \n",
    "    pool = mp.Pool(processes=30)\n",
    "    strtgs = dict(pool.map(comp_paral, ['MixedRating', 'MinRating','MaxRating', 'Random']))\n",
    "    \n",
    "    \n",
    "    pool.close()\n",
    "    pool.join()\n",
    "    pool.terminate()\n",
    "    "
   ]
  },
  {
   "cell_type": "code",
   "execution_count": 45,
   "id": "858532bb-a6f7-41ac-b2c5-ce8994f80b80",
   "metadata": {
    "tags": []
   },
   "outputs": [
    {
     "name": "stdout",
     "output_type": "stream",
     "text": [
      "MixedRating\n",
      "MinRating\n",
      "MaxRating\n",
      "Random\n"
     ]
    }
   ],
   "source": [
    "n_epochs, v in strtgs.items():\n",
    "    print(k)\n",
    "    pd.DataFrame.from_dict(v).to_csv('./outputs_pers/%s_exp1_iter1.csv'%k,index=False)\n"
   ]
  },
  {
   "cell_type": "code",
   "execution_count": 48,
   "id": "71b55ffb-87f1-417d-967b-649d432c2dde",
   "metadata": {
    "tags": []
   },
   "outputs": [],
   "source": [
    "# n_epoch"
   ]
  },
  {
   "cell_type": "code",
   "execution_count": 44,
   "id": "c0d0bab3-6ffe-4e0f-847a-ea3d4f7b87e2",
   "metadata": {
    "tags": []
   },
   "outputs": [],
   "source": [
    "# for s, r in strtgs.items():\n",
    "#     print(s, r['c_pro'], '\\n', r['c_unpro'], '\\n')"
   ]
  },
  {
   "cell_type": "code",
   "execution_count": 45,
   "id": "c0cd2a7f-6050-4d2c-ab45-aa5524bf8b4c",
   "metadata": {
    "tags": []
   },
   "outputs": [],
   "source": [
    "# for s, r in strtgs.items():\n",
    "#     print(s, r['rmse_pro'], '\\n', r['rmse_unpro'], '\\n')"
   ]
  },
  {
   "cell_type": "code",
   "execution_count": 46,
   "id": "1e9427e8-e2d3-49da-9a9d-e2cebeebb3c6",
   "metadata": {
    "tags": []
   },
   "outputs": [],
   "source": [
    "# train_df[train_df['user'].isin(unpro_users_index)]"
   ]
  },
  {
   "cell_type": "code",
   "execution_count": 47,
   "id": "7de9e32b-af87-4201-93a9-9c407e22da36",
   "metadata": {
    "tags": []
   },
   "outputs": [],
   "source": [
    "# train_df[train_df['user'].isin(pro_users_index)]"
   ]
  },
  {
   "cell_type": "markdown",
   "id": "ace026da-424a-4463-94e5-03dc262b1a5b",
   "metadata": {},
   "source": [
    "# Active Learning: Binary MaxRate"
   ]
  },
  {
   "cell_type": "code",
   "execution_count": 50,
   "id": "e5a5012f-1c0b-4368-ab16-7daf606ba167",
   "metadata": {
    "tags": []
   },
   "outputs": [],
   "source": [
    "from surprise import SVDpp\n",
    "\n",
    "reader = Reader(rating_scale=(1, 5))\n",
    "\n",
    "# got the best(lowest) results of 0.86\n",
    "svdpp_sup = SVDpp(n_epochs = 100, n_factors = 100, lr_all=0.005, reg_all=0.1, verbose = False, random_state=41023)\n"
   ]
  },
  {
   "cell_type": "markdown",
   "id": "10fcdb51-65fc-4405-9615-913f55d52956",
   "metadata": {},
   "source": [
    "## new svd++"
   ]
  },
  {
   "cell_type": "code",
   "execution_count": 51,
   "id": "cc43d734-745a-4e5b-8db8-bd5f2bd698cf",
   "metadata": {
    "tags": []
   },
   "outputs": [
    {
     "name": "stdout",
     "output_type": "stream",
     "text": [
      "strategy MaxRating-Binary-PP\n"
     ]
    },
    {
     "name": "stderr",
     "output_type": "stream",
     "text": [
      "while loop: 100%|██████████| 25/25 [1:19:08<00:00, 189.94s/it]\n"
     ]
    }
   ],
   "source": [
    "from tqdm import tqdm\n",
    "\n",
    "# for strat in rmse_d.keys():\n",
    "strat = 'MaxRating-Binary-PP'\n",
    "strtgs[strat] = {}\n",
    "\n",
    "\n",
    "\n",
    "for strat in ['MaxRating-Binary-PP']:\n",
    "    print('strategy',strat)\n",
    "\n",
    "\n",
    "    #-------------------------DATA STRUCTURES---------------------------------\n",
    "    rmse = []\n",
    "    rmse_pro = []\n",
    "    rmse_unpro = []\n",
    "\n",
    "    pro_c = []\n",
    "    unpro_c = []\n",
    "\n",
    "\n",
    "    #-------------------------test set---------------------------------\n",
    "    # build the test set\n",
    "    testset = Dataset.load_from_df(test_df[['user', 'item', 'rating']], reader).build_full_trainset().build_testset()\n",
    "\n",
    "\n",
    "    #---------------------------KNOWN_DF-------------------------------\n",
    "    # the known set, a part of the training set\n",
    "    known_df = initial_train_df\n",
    "    known_sup = Dataset.load_from_df(known_df[['user', 'item', 'rating']], reader).build_full_trainset()\n",
    "\n",
    "\n",
    "    #---------------------------FIT THE MODEL------------------\n",
    "    # fit to the known data first\n",
    "    svdpp_sup.fit(known_sup)\n",
    "\n",
    "    # predictions\n",
    "    init_preds = svdpp_sup.test(testset) # ****\n",
    "\n",
    "    # get the RMSE\n",
    "    init_rmse = accuracy.rmse(init_preds, verbose=False) # ****\n",
    "\n",
    "\n",
    "    rmse.append(init_rmse)\n",
    "    pro_, unpro_ = seperate_preds(init_preds)    \n",
    "    rmse_pro.append(accuracy.rmse(pro_, verbose=False))\n",
    "    rmse_unpro.append(accuracy.rmse(unpro_, verbose=False))\n",
    "\n",
    "\n",
    "    # pro/unpro count\n",
    "    pro_c.append(known_df[known_df['user'].isin(pro_users_index)].shape[0])\n",
    "    unpro_c.append(known_df[~known_df['user'].isin(pro_users_index)].shape[0])\n",
    "\n",
    "\n",
    "    #------------------------EPOCHS----------------------------------\n",
    "    epoch = 0\n",
    "    pbar = tqdm(desc='while loop', total=n_epochs)\n",
    "    while epoch < n_epochs:\n",
    "        for uid in range(dataset.user_n):\n",
    "\n",
    "            #------------------------ recommendations-----------------------\n",
    "            u_preds = retrieve_topk(uid, train_df, known_df, known_sup, svdpp_sup, topk, strat)\n",
    "\n",
    "            #------------------------update known_df-------------------------\n",
    "            # known_df will turn into known sup to be readable for surprise\n",
    "            known_df = pd.concat([known_df, u_preds[['user','item','rating']]]).drop_duplicates()\n",
    "            # print(known_df.shape)\n",
    "\n",
    "        #------------------------evaluate this iteration-------------------------\n",
    "        # print(len(known_df))\n",
    "        known_sup = Dataset.load_from_df(known_df[['user', 'item', 'rating']], reader).build_full_trainset()\n",
    "        svdpp_sup.fit(known_sup)\n",
    "        iter_preds = svdpp_sup.test(testset)\n",
    "        iter_rmse = accuracy.rmse(iter_preds, verbose=False) # ****\n",
    "        \n",
    "        \n",
    "        rmse.append(iter_rmse)\n",
    "        pro_, unpro_ = seperate_preds(iter_preds)    \n",
    "        rmse_pro.append(accuracy.rmse(pro_, verbose=False))\n",
    "        rmse_unpro.append(accuracy.rmse(unpro_, verbose=False))\n",
    "\n",
    "\n",
    "        # accumulative\n",
    "        # pro/unpro count\n",
    "        pro_c.append(known_df[known_df['user'].isin(pro_users_index)].shape[0])\n",
    "        unpro_c.append(known_df[~known_df['user'].isin(pro_users_index)].shape[0])\n",
    "        \n",
    "        \n",
    "        \n",
    "        strtgs[strat] = {'rmse':rmse, 'rmse_pro':rmse_pro, 'rmse_unpro': rmse_unpro, 'c_pro':pro_c, 'c_unpro':unpro_c}\n",
    "\n",
    "        #------------------------ next iteration -------------------------\n",
    "        epoch += 1\n",
    "        pbar.update(1)\n",
    "\n",
    "    pbar.close()\n"
   ]
  },
  {
   "cell_type": "markdown",
   "id": "dbea596b-a6ae-4b00-be4c-e0a2b796d778",
   "metadata": {},
   "source": [
    "## ran before"
   ]
  },
  {
   "cell_type": "code",
   "execution_count": 52,
   "id": "56ea5fae-3532-406f-ae69-dc84807e90f0",
   "metadata": {
    "collapsed": true,
    "jupyter": {
     "outputs_hidden": true
    },
    "tags": []
   },
   "outputs": [
    {
     "data": {
      "text/plain": [
       "{'rmse': [1.0877620515178565,\n",
       "  1.0363067232846652,\n",
       "  1.0081948050410943,\n",
       "  0.9879941419394467,\n",
       "  0.9730147455007336,\n",
       "  0.9641894602671272,\n",
       "  0.9555895477685038,\n",
       "  0.9440821381525916,\n",
       "  0.9371180937191668,\n",
       "  0.932037385354502,\n",
       "  0.9259050278495785,\n",
       "  0.9221566483764458,\n",
       "  0.9185647426568432,\n",
       "  0.9151004759107955,\n",
       "  0.9134189853250378,\n",
       "  0.9111411708024135,\n",
       "  0.9093141849595233,\n",
       "  0.9084868255881281,\n",
       "  0.90671142160577,\n",
       "  0.906508895380515,\n",
       "  0.9058477714784375,\n",
       "  0.9052618483495317,\n",
       "  0.9046278035428311,\n",
       "  0.9042430462425115,\n",
       "  0.9036899845356293,\n",
       "  0.9030394367592318],\n",
       " 'rmse_pro': [1.138736549621659,\n",
       "  1.0828994041162308,\n",
       "  1.0519982932167085,\n",
       "  1.0293477902825074,\n",
       "  1.0120075958557049,\n",
       "  1.0120308216859848,\n",
       "  1.00661084131556,\n",
       "  0.9922171992288347,\n",
       "  0.9848926645180502,\n",
       "  0.9806194093886238,\n",
       "  0.9746887466351025,\n",
       "  0.9726991572455482,\n",
       "  0.9690389097061521,\n",
       "  0.9649138326403366,\n",
       "  0.9647541579331067,\n",
       "  0.9618743196352164,\n",
       "  0.9603251955360796,\n",
       "  0.9589730416384922,\n",
       "  0.9572394183574033,\n",
       "  0.9573509749207325,\n",
       "  0.9560930156150865,\n",
       "  0.9554995235222212,\n",
       "  0.9548373390816983,\n",
       "  0.9539478008459704,\n",
       "  0.9542890475798846,\n",
       "  0.9529558669742605],\n",
       " 'rmse_unpro': [1.0696948410716698,\n",
       "  1.019813702809456,\n",
       "  0.992704885861294,\n",
       "  0.9733861885094865,\n",
       "  0.9592572312332246,\n",
       "  0.9472012646595589,\n",
       "  0.9374260926285561,\n",
       "  0.9269739084570676,\n",
       "  0.9201380560843408,\n",
       "  0.9147570590926257,\n",
       "  0.9085463821821692,\n",
       "  0.904146472804469,\n",
       "  0.9005772254804412,\n",
       "  0.8973545951795158,\n",
       "  0.8951092015312084,\n",
       "  0.8930524485597295,\n",
       "  0.8911212795820698,\n",
       "  0.8904874687769269,\n",
       "  0.8886952904328171,\n",
       "  0.8883763943595647,\n",
       "  0.8879355816878887,\n",
       "  0.8873520247872533,\n",
       "  0.8867279179359776,\n",
       "  0.8865294937142931,\n",
       "  0.8856452954358146,\n",
       "  0.8852467631464382],\n",
       " 'c_pro': [546,\n",
       "  3276,\n",
       "  5800,\n",
       "  7661,\n",
       "  9194,\n",
       "  10483,\n",
       "  11602,\n",
       "  12625,\n",
       "  13596,\n",
       "  14443,\n",
       "  15192,\n",
       "  15838,\n",
       "  16408,\n",
       "  16894,\n",
       "  17326,\n",
       "  17711,\n",
       "  18051,\n",
       "  18363,\n",
       "  18624,\n",
       "  18825,\n",
       "  18993,\n",
       "  19146,\n",
       "  19268,\n",
       "  19358,\n",
       "  19448,\n",
       "  19532],\n",
       " 'c_unpro': [1340,\n",
       "  8040,\n",
       "  14371,\n",
       "  19547,\n",
       "  23957,\n",
       "  27746,\n",
       "  31033,\n",
       "  33995,\n",
       "  36723,\n",
       "  39170,\n",
       "  41404,\n",
       "  43451,\n",
       "  45267,\n",
       "  46885,\n",
       "  48339,\n",
       "  49659,\n",
       "  50824,\n",
       "  51860,\n",
       "  52797,\n",
       "  53633,\n",
       "  54383,\n",
       "  55089,\n",
       "  55715,\n",
       "  56245,\n",
       "  56707,\n",
       "  57104]}"
      ]
     },
     "execution_count": 52,
     "metadata": {},
     "output_type": "execute_result"
    }
   ],
   "source": [
    "strtgs['MaxRating-Binary-PP']\n"
   ]
  },
  {
   "cell_type": "code",
   "execution_count": 54,
   "id": "491fb275-0c7a-4146-8fb5-89d7755423a2",
   "metadata": {
    "tags": []
   },
   "outputs": [],
   "source": [
    "pd.DataFrame.from_dict(strtgs['MaxRating-Binary-PP']).to_csv('./outputs_pers/MaxRating-Binary-PP_exp1_iter3.csv',index=False)"
   ]
  },
  {
   "cell_type": "code",
   "execution_count": null,
   "id": "e9916453-6749-4021-a945-6a5bd90d59b2",
   "metadata": {
    "tags": []
   },
   "outputs": [],
   "source": [
    "# strtgs['MaxRating-Binary-PP'] = {'rmse': [1.0938231271811778, 1.042841045171952, 1.0162031651568317, 0.9932206640435459, 0.9714985868692105, 0.9601410818136897, 0.9483489720500777, 0.9411579366387653, 0.9348380814528658, 0.9291960569877044, 0.9246826823837543, 0.9210535162472782, 0.9167435229458939, 0.9138768451406964, 0.9108736512292475, 0.9090884960198121, 0.9077775401024398, 0.9064322096023374, 0.9057393638738429, 0.9047069946680419, 0.9042337422782876, 0.9037336694072706, 0.9031530681021666, 0.9029724650740966, 0.9023814283516053, 0.902022570314631, 0.9020237660125044, 0.9014022734528037, 0.9014046338603534, 0.9009955152286236, 0.9007999240936094, 0.900826957279811, 0.9006763875083729, 0.9005445018687291, 0.9004780205169715, 0.900310887548037, 0.9003998622992297, 0.9003083684109223, 0.9002433645261347, 0.9003071207431589, 0.9002586194828873, 0.900303419945829, 0.9002009426588287, 0.9001985651283999, 0.9000908783410309, 0.9000184881478375, 0.8999820964877303, 0.8999833242485124, 0.8999833242485124, 0.8999833242485124, 0.8999833242485124], 'rmse_pro': [1.143719489020439, 1.0878798366262343, 1.0618229508541257, 1.0438188160131359, 1.0260561473988752, 1.019219440196091, 1.0060089816123319, 0.9989511925671373, 0.9928932137043107, 0.9893706134192165, 0.9853244342447338, 0.9800615061311082, 0.9773511024713626, 0.9738711433304977, 0.9703057962381927, 0.9689609086426547, 0.9690202315914822, 0.967365405813624, 0.9663186059090163, 0.9661933549323212, 0.9653607410725978, 0.9654443031355776, 0.9645238853327556, 0.963602142287235, 0.9632767403205783, 0.9626048667727892, 0.9627568206015087, 0.9622266570012774, 0.9625732429580116, 0.9618424729949893, 0.9614359632710674, 0.9614481692028771, 0.9614432859338528, 0.9613873025566039, 0.9612554320381469, 0.9608375619137693, 0.960916247729603, 0.9607055371488148, 0.9605856672460001, 0.9607710409748389, 0.9607134191619406, 0.9608010120940449, 0.9604421871240605, 0.9603846175773617, 0.9600659594710601, 0.960088521661342, 0.9600413774804943, 0.9600278539652259, 0.9600278539652259, 0.9600278539652259, 0.9600278539652259], 'rmse_unpro': [1.0762463700210236, 1.0270012988430197, 1.0001407132611475, 0.975332775037095, 0.9521432102939336, 0.9391060074064504, 0.9278289893915671, 0.9205821489173615, 0.9141593926418244, 0.9077240958062777, 0.9030320537893616, 0.9000076463763668, 0.8950973684563098, 0.892456408701563, 0.8896596459767093, 0.887708532994951, 0.8858846399746589, 0.8846534833812845, 0.8840920910430445, 0.8827196177802307, 0.8823801934335406, 0.8816613207378826, 0.881207171545519, 0.8813033679960808, 0.8806124381709788, 0.8803701423055629, 0.8803150165908105, 0.8796587176699756, 0.8795324075484034, 0.8792430770814204, 0.8791260889649257, 0.8791586914356408, 0.8789535195589732, 0.8787931224350715, 0.8787510064285892, 0.8786773798641911, 0.8787702950680271, 0.8787232351358331, 0.8786786536019426, 0.8786970520766734, 0.8786519052192666, 0.8786807686846548, 0.8786739274491123, 0.8786921571920644, 0.8786631211516794, 0.8785552058350161, 0.8785227896239001, 0.8785295259384803, 0.8785295259384803, 0.8785295259384803, 0.8785295259384803], 'c_pro': [546, 3276, 5791, 7647, 9170, 10445, 11557, 12572, 13537, 14365, 15105, 15739, 16298, 16765, 17177, 17551, 17886, 18186, 18432, 18615, 18775, 18919, 19036, 19126, 19216, 19288, 19349, 19409, 19467, 19509, 19549, 19589, 19629, 19669, 19709, 19749, 19789, 19829, 19863, 19893, 19923, 19953, 19981, 20001, 20021, 20040, 20041, 20041, 20041, 20041, 20041], 'c_unpro': [1340, 8040, 14345, 19497, 23884, 27653, 30926, 33873, 36568, 39005, 41231, 43249, 45051, 46653, 48087, 49382, 50525, 51544, 52463, 53271, 54014, 54699, 55295, 55791, 56229, 56599, 56912, 57182, 57429, 57627, 57807, 57946, 58027, 58090, 58150, 58200, 58240, 58280, 58318, 58340, 58356, 58366, 58376, 58386, 58396, 58406, 58416, 58422, 58422, 58422, 58422]}"
   ]
  },
  {
   "cell_type": "markdown",
   "id": "2c511c86-2891-4802-b738-80ad7ae2adac",
   "metadata": {},
   "source": [
    "# save the data"
   ]
  },
  {
   "cell_type": "code",
   "execution_count": 56,
   "id": "b365ad99-4319-4e84-a31c-e0c415d71696",
   "metadata": {
    "tags": []
   },
   "outputs": [],
   "source": [
    "# strtgs"
   ]
  },
  {
   "cell_type": "code",
   "execution_count": null,
   "id": "8dae8778-d41b-4338-a652-c43277bc59df",
   "metadata": {},
   "outputs": [],
   "source": [
    "# for a, b in results:\n",
    "#     print(a)\n",
    "#     pd.DataFrame.from_dict(b).to_csv('./outputs/%s_exp1_iter1.csv'%a,index=False)\n",
    "    "
   ]
  },
  {
   "cell_type": "markdown",
   "id": "69ce54dc-89d6-4bb5-ae3a-7830f4ad0bad",
   "metadata": {},
   "source": [
    "# Active Learning - Knn"
   ]
  },
  {
   "cell_type": "code",
   "execution_count": null,
   "id": "3fb84fb6-3a88-4461-b2c4-bb31d0614daf",
   "metadata": {
    "tags": []
   },
   "outputs": [
    {
     "name": "stdout",
     "output_type": "stream",
     "text": [
      "strategy Knn\n"
     ]
    },
    {
     "name": "stderr",
     "output_type": "stream",
     "text": [
      "while loop:  56%|█████▌    | 14/25 [7:55:13<15:02:47, 4924.36s/it]"
     ]
    }
   ],
   "source": [
    "from tqdm import tqdm\n",
    "\n",
    "\n",
    "strat = 'Knn'\n",
    "strtgs[strat] = {}\n",
    "\n",
    "\n",
    "for strat in ['Knn']:\n",
    "    print('strategy',strat)\n",
    "\n",
    "\n",
    "    #-------------------------DATA STRUCTURES---------------------------------\n",
    "    rmse = []\n",
    "    rmse_pro = []\n",
    "    rmse_unpro = []\n",
    "\n",
    "    pro_c = []\n",
    "    unpro_c = []\n",
    "\n",
    "    #-------------------------neibours---------------------------------\n",
    "    # rmse = []\n",
    "\n",
    "    # set the maximum number of epochs that can capture as much rating as possible!\n",
    "    # n_epochs = 10\n",
    "\n",
    "    # w = 10   # window of w items (our queries)\n",
    "    # topk = w\n",
    "\n",
    "    #-------------------------model building---------------------------------\n",
    "    # reader = Reader(rating_scale=(1, 5))\n",
    "    # svd_sup = SVD(n_epochs = 100, n_factors = 100, lr_all=0.005, reg_all=0.1, verbose = False, random_state=41023)\n",
    "\n",
    "\n",
    "    #-------------------------test set---------------------------------\n",
    "    # build the test set\n",
    "    testset = Dataset.load_from_df(test_df[['user', 'item', 'rating']], reader).build_full_trainset().build_testset()\n",
    "\n",
    "    \n",
    "    #---------------------------KNOWN_DF-------------------------------\n",
    "    # the known set, a part of the training set\n",
    "    known_df = initial_train_df\n",
    "    known_sup = Dataset.load_from_df(known_df[['user', 'item', 'rating']], reader).build_full_trainset()\n",
    "\n",
    "\n",
    "    #---------------------------FIT THE MODEL------------------\n",
    "    # fit to the known data first\n",
    "    svd_sup.fit(known_sup)\n",
    "\n",
    "    # predictions\n",
    "    init_preds = svd_sup.test(testset) # ****\n",
    "\n",
    "    # get the RMSE\n",
    "    init_rmse = accuracy.rmse(init_preds, verbose=False) # ****\n",
    "\n",
    "    \n",
    "    # append\n",
    "    rmse.append(init_rmse)\n",
    "    pro_, unpro_ = seperate_preds_v2(init_preds)    \n",
    "    rmse_pro.append(accuracy.rmse(pro_, verbose=False))\n",
    "    rmse_unpro.append(accuracy.rmse(unpro_, verbose=False))\n",
    "\n",
    "\n",
    "    # pro/unpro count\n",
    "    # pro_c.append(known_df[known_df['user'].isin(pro_users_index)].shape[0])\n",
    "    # unpro_c.append(known_df[~known_df['user'].isin(pro_users_index)].shape[0])\n",
    "    pc = np.sum([1 if iid_to_gender[row.user] == 'F' else 0 for row in known_df.itertuples()])\n",
    "    upc = known_df.shape[0] - pc\n",
    "    pro_c.append(pc)\n",
    "    unpro_c.append(upc)\n",
    "\n",
    "    \n",
    "    #------------------------ EPOCHS ----------------------------------\n",
    "    epoch = 0\n",
    "\n",
    "    pbar = tqdm(desc='while loop', total=n_epochs)\n",
    "    while epoch < n_epochs:\n",
    "        # print(f\" epoch {epoch} \".center(40, '*'))\n",
    "\n",
    "        for uid in range(dataset.user_n):\n",
    "        # for uid in range(10):\n",
    "            # print('uid', uid)\n",
    "\n",
    "            #------------------------ recommendations-----------------------\n",
    "            # (uid, tr_df, kwn_df, algo, k)\n",
    "            # print(known_df.shape)\n",
    "            u_preds = retrieve_topKnn(uid, train_df, known_df, itm_sim_mat, svd_sup, topk)\n",
    "            # print('nns of this user',u_preds.shape, u_preds)\n",
    "\n",
    "            #------------------------update known_df-------------------------\n",
    "            # known_df will turn into known sup to be readable for surprise\n",
    "            known_df = pd.concat([known_df, u_preds[['user','item','rating']]]).drop_duplicates()\n",
    "\n",
    "            \n",
    "        #------------------------evaluate this iteration-------------------------\n",
    "        # print(len(known_df), np.unique(known_df['item']).shape)\n",
    "        known_sup = Dataset.load_from_df(known_df[['user', 'item', 'rating']], reader).build_full_trainset()\n",
    "        svd_sup.fit(known_sup)\n",
    "        iter_preds = svd_sup.test(testset)\n",
    "        iter_rmse = accuracy.rmse(iter_preds, verbose=False) # ****\n",
    "\n",
    "        \n",
    "        rmse.append(iter_rmse)\n",
    "        pro_, unpro_ = seperate_preds_v2(iter_preds)    \n",
    "        rmse_pro.append(accuracy.rmse(pro_, verbose=False))\n",
    "        rmse_unpro.append(accuracy.rmse(unpro_, verbose=False))\n",
    "\n",
    "\n",
    "        # accumulative\n",
    "        # pro/unpro count\n",
    "        # pro_c.append(known_df[known_df['user'].isin(pro_users_index)].shape[0])\n",
    "        # unpro_c.append(known_df[~known_df['user'].isin(pro_users_index)].shape[0])\n",
    "        pc = np.sum([1 if iid_to_gender[row.user] == 'F' else 0 for row in known_df.itertuples()])\n",
    "        upc = known_df.shape[0] - pc\n",
    "        pro_c.append(pc)\n",
    "        unpro_c.append(upc)\n",
    "        \n",
    "        \n",
    "        strtgs[strat] = {'rmse':rmse, 'rmse_pro':rmse_pro, 'rmse_unpro': rmse_unpro, 'c_pro':pro_c, 'c_unpro':unpro_c}\n",
    "        \n",
    "        #------------------------ next iteration -------------------------\n",
    "        epoch += 1\n",
    "        pbar.update(1)\n",
    "\n",
    "    pbar.close()\n"
   ]
  },
  {
   "cell_type": "code",
   "execution_count": null,
   "id": "4c72ca55-b0c9-442d-86a5-45129fa5476e",
   "metadata": {
    "tags": []
   },
   "outputs": [],
   "source": [
    "pd.DataFrame.from_dict(strtgs['Knn']).to_csv('./outputs_pers/knn_exp1_iter5.csv',index=False)"
   ]
  },
  {
   "cell_type": "code",
   "execution_count": null,
   "id": "2fe3769d-35a2-45c3-b34b-c8d92eda7245",
   "metadata": {
    "tags": []
   },
   "outputs": [],
   "source": [
    "strtgs['Knn']"
   ]
  },
  {
   "cell_type": "code",
   "execution_count": 230,
   "id": "2b3c64aa-f4cc-443c-8a63-6066cf7a0eba",
   "metadata": {
    "collapsed": true,
    "jupyter": {
     "outputs_hidden": true
    },
    "tags": []
   },
   "outputs": [
    {
     "data": {
      "text/plain": [
       "{'rmse': [1.092583708921607,\n",
       "  1.0882793642665902,\n",
       "  1.0736884845998231,\n",
       "  1.0567075725741448,\n",
       "  1.0385012297827068,\n",
       "  1.011352795158551,\n",
       "  0.9838528806835574,\n",
       "  0.9566818942775764,\n",
       "  0.9399931214133564,\n",
       "  0.9265226284378301,\n",
       "  0.9148709478275037,\n",
       "  0.9091538112600264,\n",
       "  0.9072580338562761,\n",
       "  0.9068306850000507,\n",
       "  0.90659144448061,\n",
       "  0.90659144448061,\n",
       "  0.90659144448061,\n",
       "  0.90659144448061,\n",
       "  0.90659144448061,\n",
       "  0.90659144448061,\n",
       "  0.90659144448061,\n",
       "  0.90659144448061,\n",
       "  0.90659144448061,\n",
       "  0.90659144448061,\n",
       "  0.90659144448061,\n",
       "  0.90659144448061],\n",
       " 'rmse_pro': [1.1387954158036206,\n",
       "  1.1284994455014534,\n",
       "  1.110959505902664,\n",
       "  1.0976761320789228,\n",
       "  1.0834761643431723,\n",
       "  1.0675513754753614,\n",
       "  1.0407548113888907,\n",
       "  1.0161658460552443,\n",
       "  1.0033308127723766,\n",
       "  0.989197251504883,\n",
       "  0.97679246927144,\n",
       "  0.9698810950023733,\n",
       "  0.967552980523586,\n",
       "  0.9673569242241528,\n",
       "  0.9670724833030202,\n",
       "  0.9670724833030202,\n",
       "  0.9670724833030202,\n",
       "  0.9670724833030202,\n",
       "  0.9670724833030202,\n",
       "  0.9670724833030202,\n",
       "  0.9670724833030202,\n",
       "  0.9670724833030202,\n",
       "  0.9670724833030202,\n",
       "  0.9670724833030202,\n",
       "  0.9670724833030202,\n",
       "  0.9670724833030202],\n",
       " 'rmse_unpro': [1.0762548440005102,\n",
       "  1.0741185726597935,\n",
       "  1.0605857972808859,\n",
       "  1.0422656605736316,\n",
       "  1.0225985571098473,\n",
       "  0.991316919395259,\n",
       "  0.9635352429234908,\n",
       "  0.9353801159484718,\n",
       "  0.9172316249028408,\n",
       "  0.9039954100605239,\n",
       "  0.8926138426833113,\n",
       "  0.8873390200503205,\n",
       "  0.8856034662839639,\n",
       "  0.8850888551711417,\n",
       "  0.884866323254782,\n",
       "  0.884866323254782,\n",
       "  0.884866323254782,\n",
       "  0.884866323254782,\n",
       "  0.884866323254782,\n",
       "  0.884866323254782,\n",
       "  0.884866323254782,\n",
       "  0.884866323254782,\n",
       "  0.884866323254782,\n",
       "  0.884866323254782,\n",
       "  0.884866323254782,\n",
       "  0.884866323254782],\n",
       " 'c_pro': [546,\n",
       "  1066,\n",
       "  1920,\n",
       "  3184,\n",
       "  4937,\n",
       "  7137,\n",
       "  9677,\n",
       "  12351,\n",
       "  14978,\n",
       "  17354,\n",
       "  19091,\n",
       "  20042,\n",
       "  20336,\n",
       "  20401,\n",
       "  20415,\n",
       "  20415,\n",
       "  20415,\n",
       "  20415,\n",
       "  20415,\n",
       "  20415,\n",
       "  20415,\n",
       "  20415,\n",
       "  20415,\n",
       "  20415,\n",
       "  20415,\n",
       "  20415],\n",
       " 'c_unpro': [1340,\n",
       "  2618,\n",
       "  4699,\n",
       "  7934,\n",
       "  12571,\n",
       "  18619,\n",
       "  25867,\n",
       "  33872,\n",
       "  41896,\n",
       "  49089,\n",
       "  54635,\n",
       "  57817,\n",
       "  58983,\n",
       "  59164,\n",
       "  59176,\n",
       "  59176,\n",
       "  59176,\n",
       "  59176,\n",
       "  59176,\n",
       "  59176,\n",
       "  59176,\n",
       "  59176,\n",
       "  59176,\n",
       "  59176,\n",
       "  59176,\n",
       "  59176]}"
      ]
     },
     "execution_count": 230,
     "metadata": {},
     "output_type": "execute_result"
    }
   ],
   "source": [
    "strtgs['Knn']"
   ]
  },
  {
   "cell_type": "markdown",
   "id": "f939aa61-6fff-440d-9a45-a05fcd7d23c5",
   "metadata": {},
   "source": [
    "# ran before"
   ]
  },
  {
   "cell_type": "code",
   "execution_count": null,
   "id": "202def03-7f1a-4f47-a44b-59861172056e",
   "metadata": {
    "tags": []
   },
   "outputs": [],
   "source": [
    "for k, v in strtgs.items():\n",
    "    print(k, v,'\\n')"
   ]
  },
  {
   "cell_type": "code",
   "execution_count": 232,
   "id": "7c6b6b82-a945-4a32-b936-2bcce7aa56dd",
   "metadata": {
    "tags": []
   },
   "outputs": [],
   "source": [
    "# strtgs['Knn'] = {'rmse': [1.0957753584383554, 1.0874241003255902, 1.0745839737653915, 1.0641471046975703, 1.0411524600975994, 1.0166437845288103, 0.9847724665392259, 0.9576666992688639, 0.9359445167659208, 0.9207336241520447, 0.9117332802616815, 0.9059086405023824, 0.9034016811507548, 0.9029188066847813, 0.9028995237863081, 0.9028850143288877, 0.9028850143288877, 0.9028850143288877, 0.9028850143288877, 0.9028850143288877, 0.9028850143288877, 0.9028850143288877, 0.9028850143288877, 0.9028850143288877, 0.9028850143288877, 0.9028850143288877, 0.9028850143288877, 0.9028850143288877, 0.9028850143288877, 0.9028850143288877, 0.9028850143288877, 0.9028850143288877, 0.9028850143288877, 0.9028850143288877, 0.9028850143288877, 0.9028850143288877, 0.9028850143288877, 0.9028850143288877, 0.9028850143288877, 0.9028850143288877, 0.9028850143288877, 0.9028850143288877, 0.9028850143288877, 0.9028850143288877, 0.9028850143288877, 0.9028850143288877, 0.9028850143288877, 0.9028850143288877, 0.9028850143288877, 0.9028850143288877, 0.9028850143288877], 'rmse_pro': [1.1464791550897757, 1.1355246995196329, 1.1227930813301665, 1.1010669925452847, 1.083514109990286, 1.062081905465786, 1.0380481164589326, 1.0130473617838365, 0.995873519754236, 0.9793105943062864, 0.972332088337084, 0.9669210028485742, 0.9638440035891634, 0.963320562217197, 0.9632422194586855, 0.9631688021392105, 0.9631688021392105, 0.9631688021392105, 0.9631688021392105, 0.9631688021392105, 0.9631688021392105, 0.9631688021392105, 0.9631688021392105, 0.9631688021392105, 0.9631688021392105, 0.9631688021392105, 0.9631688021392105, 0.9631688021392105, 0.9631688021392105, 0.9631688021392105, 0.9631688021392105, 0.9631688021392105, 0.9631688021392105, 0.9631688021392105, 0.9631688021392105, 0.9631688021392105, 0.9631688021392105, 0.9631688021392105, 0.9631688021392105, 0.9631688021392105, 0.9631688021392105, 0.9631688021392105, 0.9631688021392105, 0.9631688021392105, 0.9631688021392105, 0.9631688021392105, 0.9631688021392105, 0.9631688021392105, 0.9631688021392105, 0.9631688021392105, 0.9631688021392105], 'rmse_unpro': [1.0779063009949748, 1.0704956636746548, 1.0576101718472761, 1.0512365687895089, 1.0262792512327756, 1.000647425270565, 0.9658980120662993, 0.9379972312360056, 0.914570663875494, 0.8998477471118181, 0.8900851081027064, 0.8840997664766583, 0.8818030223263096, 0.8813347770178326, 0.8813375268263095, 0.8813449966195286, 0.8813449966195286, 0.8813449966195286, 0.8813449966195286, 0.8813449966195286, 0.8813449966195286, 0.8813449966195286, 0.8813449966195286, 0.8813449966195286, 0.8813449966195286, 0.8813449966195286, 0.8813449966195286, 0.8813449966195286, 0.8813449966195286, 0.8813449966195286, 0.8813449966195286, 0.8813449966195286, 0.8813449966195286, 0.8813449966195286, 0.8813449966195286, 0.8813449966195286, 0.8813449966195286, 0.8813449966195286, 0.8813449966195286, 0.8813449966195286, 0.8813449966195286, 0.8813449966195286, 0.8813449966195286, 0.8813449966195286, 0.8813449966195286, 0.8813449966195286, 0.8813449966195286, 0.8813449966195286, 0.8813449966195286, 0.8813449966195286, 0.8813449966195286], 'c_pro': [546, 1055, 1845, 3015, 4696, 6827, 9294, 12019, 14638, 16964, 18629, 19512, 19933, 20022, 20040, 20041, 20041, 20041, 20041, 20041, 20041, 20041, 20041, 20041, 20041, 20041, 20041, 20041, 20041, 20041, 20041, 20041, 20041, 20041, 20041, 20041, 20041, 20041, 20041, 20041, 20041, 20041, 20041, 20041, 20041, 20041, 20041, 20041, 20041, 20041, 20041], 'c_unpro': [1340, 2598, 4668, 7828, 12281, 18246, 25345, 33056, 40895, 48109, 53658, 56935, 58168, 58402, 58422, 58422, 58422, 58422, 58422, 58422, 58422, 58422, 58422, 58422, 58422, 58422, 58422, 58422, 58422, 58422, 58422, 58422, 58422, 58422, 58422, 58422, 58422, 58422, 58422, 58422, 58422, 58422, 58422, 58422, 58422, 58422, 58422, 58422, 58422, 58422, 58422]}"
   ]
  },
  {
   "cell_type": "code",
   "execution_count": 60,
   "id": "71190d33-cd83-4ccd-8280-b1f938df58b7",
   "metadata": {
    "collapsed": true,
    "jupyter": {
     "outputs_hidden": true
    },
    "tags": []
   },
   "outputs": [
    {
     "name": "stdout",
     "output_type": "stream",
     "text": [
      "MixedRating {'rmse': [1.0867764131804838, 1.0097599348866193, 0.9810711959506653, 0.9696592087093932, 0.9590332371848329, 0.9513781785180611, 0.945390078899374, 0.9376814307304843, 0.9315040665568951, 0.9267482325430031, 0.9225107876574856, 0.9196431168133504, 0.9165532197723798, 0.9151113950530674, 0.9128372939616503, 0.9114018385706885, 0.9099792070858456, 0.908786367609355, 0.9070007781437069, 0.9059229150944653, 0.9051724860723227, 0.9046116759725099, 0.9044176302808837, 0.9038768153992311, 0.9033007123215623, 0.9030186956049925], 'rmse_pro': [1.0969497559546375, 1.0337464037071256, 1.0101104571577428, 0.9978798532225739, 0.9900965547784506, 0.9843182612774043, 0.9785101697671639, 0.9706172800910715, 0.9665031745955603, 0.9619090416919789, 0.9582739734033154, 0.9556407081821804, 0.9532581764236042, 0.9506978916279522, 0.9489757769233903, 0.9479570588578038, 0.9463169276021237, 0.9467518776071336, 0.9447696689059901, 0.9433453218806686, 0.942683382161831, 0.942600231263422, 0.9424505390263854, 0.941768315219486, 0.9410529399727854, 0.9407466217289341], 'rmse_unpro': [1.0832788686100472, 1.001433469715545, 0.9709511177986556, 0.9598276889475327, 0.9481874809364302, 0.9398598904744431, 0.9338056600836253, 0.9261607460988639, 0.9192415299863884, 0.9144260020915194, 0.9099704869957023, 0.9070174361951125, 0.9036716236278484, 0.9026320412151873, 0.9001583985534807, 0.8985722576240728, 0.8972274709692979, 0.8954468949198012, 0.8937315883115351, 0.8927783938141958, 0.891995714844409, 0.8912621490564182, 0.8910519959832721, 0.8905620496817388, 0.8900360213138336, 0.8897626666314141], 'c_pro': [546, 3271, 5791, 7647, 9170, 10445, 11557, 12572, 13537, 14365, 15105, 15739, 16298, 16765, 17177, 17551, 17886, 18186, 18432, 18615, 18775, 18919, 19036, 19126, 19216, 19288], 'c_unpro': [1340, 8014, 14345, 19497, 23884, 27653, 30926, 33873, 36568, 39005, 41231, 43249, 45051, 46653, 48087, 49382, 50525, 51544, 52463, 53271, 54014, 54699, 55295, 55791, 56229, 56599]} \n",
      "\n",
      "MinRating {'rmse': [1.0867764131804838, 1.016344280769228, 0.9849334000901577, 0.9714767109690485, 0.9592002710434684, 0.9500110341837116, 0.9426696232477247, 0.9375567281771787, 0.932239207306123, 0.9264652588251032, 0.9220853595425357, 0.9194637223533441, 0.9164316948707497, 0.914610769705019, 0.9137972677175747, 0.9117716293502505, 0.9102766356612314, 0.9092940745820971, 0.9080338340808951, 0.9070439740100459, 0.9063653567651437, 0.9054159490454774, 0.9047403440251708, 0.9040414472541268, 0.9035944732148223, 0.9028401865250637], 'rmse_pro': [1.0969497559546375, 1.0341675296695978, 1.0121626100934946, 0.9992607117701549, 0.9929577034656372, 0.986564529462065, 0.9770703373871622, 0.9731304516581125, 0.9644619517509391, 0.9615865218843678, 0.9556543599018603, 0.9550308469022756, 0.9515095031166575, 0.9503509847602362, 0.9499697352410976, 0.9484677850045654, 0.9473320060680769, 0.9457890226582156, 0.9440685454507515, 0.9430390249854275, 0.9421783375672494, 0.9414751889513844, 0.941215950886816, 0.9406494729835679, 0.9402540408045804, 0.9395501036316276], 'rmse_unpro': [1.0832788686100472, 1.0101830300040269, 0.9754565564426777, 0.9618005831852144, 0.9473916600962168, 0.9371961116555022, 0.9306254813293935, 0.925089765067491, 0.9209721975260166, 0.9141571444881431, 0.9103331008610299, 0.9069928801621177, 0.9041357736722874, 0.9020759163664979, 0.9011064865974427, 0.8988913886589514, 0.8972662862070845, 0.896485417436474, 0.8953905381899376, 0.8944145970772494, 0.8938013062291064, 0.8927628416726643, 0.8919369218193466, 0.891190010974958, 0.8907242766680528, 0.8899515374173597], 'c_pro': [546, 3276, 5791, 7647, 9170, 10445, 11557, 12572, 13537, 14365, 15105, 15739, 16298, 16765, 17177, 17551, 17886, 18186, 18432, 18615, 18775, 18919, 19036, 19126, 19216, 19288], 'c_unpro': [1340, 8040, 14345, 19497, 23884, 27653, 30926, 33873, 36568, 39005, 41231, 43249, 45051, 46653, 48087, 49382, 50525, 51544, 52463, 53271, 54014, 54699, 55295, 55791, 56229, 56599]} \n",
      "\n",
      "MaxRating {'rmse': [1.0867764131804838, 1.02730391020473, 1.0049239409748674, 0.9906955055391403, 0.9765146192162543, 0.9624620578705984, 0.9527380794333515, 0.9440382954756744, 0.936412106973545, 0.9308108718409717, 0.9252744869527034, 0.9217773494341462, 0.9185700993757396, 0.9156248516561544, 0.9142299828200197, 0.9115028690821636, 0.9096868636045332, 0.9085459859352176, 0.9078054021148778, 0.906695244525823, 0.905659799453415, 0.9049697094615725, 0.9042927354272146, 0.9036900856338801, 0.9029821683769846, 0.9024178724932044], 'rmse_pro': [1.0969497559546375, 1.039766384816756, 1.024955917450146, 1.0167388332313867, 1.0098346864923304, 0.9948355841432684, 0.9888208536424707, 0.9769425006132263, 0.9711212565734961, 0.9644606098578136, 0.9588060333304622, 0.9562995043763058, 0.9533413365140243, 0.9494285399655275, 0.9489606145442369, 0.9466952234429685, 0.9454800963802381, 0.9454061434335566, 0.9441997570183774, 0.9422348821741338, 0.9419865997444461, 0.9413510115065784, 0.9406212742141653, 0.9396886276998622, 0.9385959771616277, 0.9379273889710108], 'rmse_unpro': [1.0832788686100472, 1.023011402569937, 0.9979880145773884, 0.9816396537377532, 0.9648673881556742, 0.9511493826122851, 0.9400933143104006, 0.9325307665765415, 0.9242552987693281, 0.9190323609202659, 0.9135366488400526, 0.9096829040222455, 0.9063851022432426, 0.9037863512861005, 0.9020581093237696, 0.8991640394910045, 0.8971311409121695, 0.8956053704623489, 0.8950324362249558, 0.8942297339423174, 0.8929103679589843, 0.8922003709297739, 0.8915421580268253, 0.8910582015475871, 0.8904886007703593, 0.8899616518953409], 'c_pro': [546, 3276, 5791, 7647, 9170, 10445, 11557, 12572, 13537, 14365, 15105, 15739, 16298, 16765, 17177, 17551, 17886, 18186, 18432, 18615, 18775, 18919, 19036, 19126, 19216, 19288], 'c_unpro': [1340, 8040, 14345, 19497, 23884, 27653, 30926, 33873, 36568, 39005, 41231, 43249, 45051, 46653, 48087, 49382, 50525, 51544, 52463, 53271, 54014, 54699, 55295, 55791, 56229, 56599]} \n",
      "\n",
      "Random {'rmse': [1.0867764131804838, 1.00353427237905, 0.9837600384532973, 0.9710304426797668, 0.9608353504091671, 0.9514691302718264, 0.9430702857511487, 0.9365395326678639, 0.931182099418228, 0.9259382821287492, 0.9220382708532533, 0.9181849056721696, 0.9160716286441694, 0.9133884031110404, 0.9121799983469511, 0.9109315018908098, 0.9100672024325475, 0.9094222177415006, 0.9085239492683749, 0.9075617183928598, 0.90640940264778, 0.9057840449728598, 0.9054114305663061, 0.9047237121155547, 0.9043118261563913, 0.9037793773930051], 'rmse_pro': [1.0969497559546375, 1.0251284122878477, 1.0103892300066175, 1.0047477877176112, 0.9947916660909646, 0.9848525036958602, 0.9777041380874864, 0.9696136043959118, 0.9653516482617785, 0.9606564386798793, 0.9575415045921363, 0.9526591862508397, 0.9496118276366041, 0.9469418908209136, 0.9441652959005641, 0.943237763640987, 0.9428209558394739, 0.9432836493426736, 0.9423506512882158, 0.9416923055384865, 0.9403989128645033, 0.9404656123270781, 0.9398544038486571, 0.9392872368924293, 0.9392454832049235, 0.9388287614767915], 'rmse_unpro': [1.0832788686100472, 0.9960495043315909, 0.9744956137602407, 0.9592395767883557, 0.9489559951944945, 0.9397922084552481, 0.9309426321474764, 0.9249690196519518, 0.9192172690108789, 0.9137748154238267, 0.9095913128422894, 0.9061064668645069, 0.9043278163820432, 0.9016389745111285, 0.9009922602804598, 0.8996284590845732, 0.8986035512271393, 0.897560983682465, 0.8966748917865479, 0.8956032081591522, 0.8945011846739775, 0.8936269172073532, 0.8933399473513245, 0.8926086589779946, 0.8920635263996365, 0.8914892571658571], 'c_pro': [546, 3276, 5791, 7647, 9170, 10445, 11557, 12572, 13537, 14365, 15105, 15739, 16298, 16765, 17177, 17551, 17886, 18186, 18432, 18615, 18775, 18919, 19036, 19126, 19216, 19288], 'c_unpro': [1340, 8040, 14345, 19497, 23884, 27653, 30926, 33873, 36568, 39005, 41231, 43249, 45051, 46653, 48087, 49382, 50525, 51544, 52463, 53271, 54014, 54699, 55295, 55791, 56229, 56599]} \n",
      "\n",
      "MaxRating-Binary-PP {'rmse': [1.0856591563426534, 1.0273942535137603, 1.003351929572533, 0.986514709442422, 0.9722588330716488, 0.9610751080775528, 0.9497379512440679, 0.9405988909312889, 0.9335551336748608, 0.9274185678625202, 0.9216845712583338, 0.9180989902773761, 0.9159500666886377, 0.9143002464903865, 0.911314811951475, 0.909196425408159, 0.9069636198373383, 0.9061515816244673, 0.9046494323561604, 0.9033396018025096, 0.9025641706467751, 0.9020330061197511, 0.9011219331449452, 0.9005506062917897, 0.8999455584245188, 0.8995179172175584], 'rmse_pro': [1.0992654146464045, 1.0418521089736, 1.029227373371762, 1.0080892601402807, 1.0036720957252039, 0.9938374120722501, 0.9852520584282918, 0.9758717612210472, 0.9687450333540656, 0.9608322564341979, 0.9552836391903977, 0.9530210012946287, 0.9508292462151366, 0.9496172776924624, 0.9455964194003135, 0.9452083512689679, 0.9435248013881885, 0.9431886684250879, 0.9410487631294889, 0.938987609124502, 0.9380447627018232, 0.9376946858948575, 0.9364042834345175, 0.9357684262255039, 0.9348402697239979, 0.9338742311860488], 'rmse_unpro': [1.0809714274203075, 1.0224079774830266, 0.9943574675436335, 0.9790349675194858, 0.9612914875830146, 0.9496230941439568, 0.9372964724281004, 0.9282410366705006, 0.9212247412457482, 0.91572364242406, 0.9099214033971454, 0.9058596475150437, 0.9037253866171095, 0.9019175521676103, 0.8993033005166872, 0.8965617674397367, 0.8941301983575184, 0.8931462091900869, 0.8918734728454489, 0.8908338502137161, 0.8901184175127475, 0.889521850392816, 0.8887470241306169, 0.8881987190020727, 0.887709729177979, 0.8874755696027287], 'c_pro': [546, 3276, 5791, 7647, 9170, 10445, 11557, 12572, 13537, 14365, 15105, 15739, 16298, 16765, 17177, 17551, 17886, 18186, 18432, 18615, 18775, 18919, 19036, 19126, 19216, 19288], 'c_unpro': [1340, 8040, 14345, 19497, 23884, 27653, 30926, 33873, 36568, 39005, 41231, 43249, 45051, 46653, 48087, 49382, 50525, 51544, 52463, 53271, 54014, 54699, 55295, 55791, 56229, 56599]} \n",
      "\n",
      "Knn {'rmse': [1.0867764131804838, 1.0790701896047334, 1.0669838490085914, 1.0514462512762475, 1.030079676976038, 1.004521716212441, 0.9788473302633355, 0.9527034213730363, 0.9345195805960833, 0.9169673304384617, 0.907109072970545, 0.9030241355159249, 0.90122336381655, 0.900911439145145, 0.9008827438618934, 0.9008827438618934, 0.9008827438618934, 0.9008827438618934, 0.9008827438618934, 0.9008827438618934, 0.9008827438618934, 0.9008827438618934, 0.9008827438618934, 0.9008827438618934, 0.9008827438618934, 0.9008827438618934], 'rmse_pro': [1.0969497559546375, 1.089163059887524, 1.0839379645796796, 1.0673972290342681, 1.0512327811144577, 1.0313153889471032, 1.00811644917353, 0.9870476096498639, 0.9692424847062231, 0.951675760890193, 0.9422819012623794, 0.9390129431467044, 0.9366716612875167, 0.9361306890307721, 0.9361482410259687, 0.9361482410259687, 0.9361482410259687, 0.9361482410259687, 0.9361482410259687, 0.9361482410259687, 0.9361482410259687, 0.9361482410259687, 0.9361482410259687, 0.9361482410259687, 0.9361482410259687, 0.9361482410259687], 'rmse_unpro': [1.0832788686100472, 1.0756003290567793, 1.0611295189667234, 1.0459409667680264, 1.022752610691907, 0.9952025435626878, 0.9686450787743522, 0.9406826519087491, 0.9223572216080682, 0.9048043618842649, 0.8947757187498199, 0.8903955095014359, 0.8887887496907252, 0.8885591671059982, 0.88851381495069, 0.88851381495069, 0.88851381495069, 0.88851381495069, 0.88851381495069, 0.88851381495069, 0.88851381495069, 0.88851381495069, 0.88851381495069, 0.88851381495069, 0.88851381495069, 0.88851381495069], 'c_pro': [546, 1064, 1896, 3158, 4916, 7179, 9719, 12389, 14978, 17215, 18796, 19638, 19976, 20036, 20041, 20041, 20041, 20041, 20041, 20041, 20041, 20041, 20041, 20041, 20041, 20041], 'c_unpro': [1340, 2590, 4653, 7779, 12316, 18188, 25265, 33070, 41003, 48348, 53962, 57122, 58247, 58418, 58422, 58422, 58422, 58422, 58422, 58422, 58422, 58422, 58422, 58422, 58422, 58422]} \n",
      "\n"
     ]
    }
   ],
   "source": [
    "for k, v in strtgs.items():\n",
    "    print(k, v,'\\n')"
   ]
  },
  {
   "cell_type": "code",
   "execution_count": 119,
   "id": "dcc2ab4c-8937-4ae1-8931-a63b9825379c",
   "metadata": {
    "tags": []
   },
   "outputs": [],
   "source": [
    "# strtgs['MixedRating']"
   ]
  },
  {
   "cell_type": "markdown",
   "id": "2aca77e3-ef78-4360-aab8-98fa231eb8d6",
   "metadata": {},
   "source": [
    "# new plots"
   ]
  },
  {
   "cell_type": "code",
   "execution_count": null,
   "id": "03e86f14-7230-43b0-823f-bcb9d04f12c8",
   "metadata": {
    "tags": []
   },
   "outputs": [],
   "source": [
    "fig, ax = plt.subplots(figsize=(10,7))\n",
    "marker_l = ['b-o', 'c-o', 'r-o', 'g-o',  'm-o', 'y-o']\n",
    "\n",
    "# y_axis = list(range(0, n_epochs+1))\n",
    "\n",
    "\n",
    "for m, s in list(zip(marker_l, strtgs.keys())):\n",
    "    ax.plot(list(range(0, len(strtgs[s]['rmse']))), strtgs[s]['rmse'], m, label=s)   \n",
    "\n",
    "# ax.plot(list(range(0, len(strtgs[s]['rmse']))), [fin_acc]*len(list(range(0, len(strtgs[s]['rmse'])))),'-', label='all-tr')   \n",
    "          \n",
    "              \n",
    "ax.grid(True)\n",
    "legend = ax.legend(loc='best')\n",
    "plt.xlabel('# of iterations')\n",
    "plt.ylabel('RMSE')\n",
    "# plt.title('Non-personalized AL Strategies')\n",
    "\n",
    "# plt.show()\n",
    "plt.savefig('./outputs_pers/Pers-rmse-ml.png', dpi=300)"
   ]
  },
  {
   "cell_type": "code",
   "execution_count": null,
   "id": "50113afd-5e61-4502-9cbe-a58e7b398acb",
   "metadata": {
    "tags": []
   },
   "outputs": [],
   "source": [
    "fig, ax = plt.subplots(figsize=(10,7))\n",
    "marker_l = ['b-o', 'c-o', 'r-o', 'g-o', 'm-o', 'y-o']\n",
    "\n",
    "# y_axis = list(range(0, dataset.item_n, w))\n",
    "\n",
    "for m, s in list(zip(marker_l, strtgs.keys())):\n",
    "    \n",
    "    rmse_diff = [a-b for a, b in zip(strtgs[s]['rmse_pro'], strtgs[s]['rmse_unpro'])]\n",
    "    ax.plot(list(range(0, len(strtgs[s]['rmse']))), rmse_diff, m, label=s)\n",
    "    # ax.plot(y_axis[:], rmse_diff, m, label=results[i][0])\n",
    "              \n",
    "              \n",
    "ax.grid(True)\n",
    "legend = ax.legend(loc='best')\n",
    "plt.xlabel('# of iterations')\n",
    "plt.ylabel('RMSE difference')\n",
    "# plt.title('Unfairness in different AL methods')\n",
    "\n",
    "# plt.show()\n",
    "plt.savefig('./outputs_pers/pers_rmse_diff_ml.png', dpi=300)"
   ]
  },
  {
   "cell_type": "code",
   "execution_count": null,
   "id": "f77d3dd4-be64-474d-b461-3ef087f90f57",
   "metadata": {
    "tags": []
   },
   "outputs": [],
   "source": [
    "fig, ax = plt.subplots(figsize=(10,7))\n",
    "marker_l = ['b-', 'c-', 'r-', 'g-', 'm-', 'y-']\n",
    "\n",
    "# y_axis = list(range(0, dataset.item_n, w))\n",
    "# list(range(0, len(results[i][1]['rmse'])))\n",
    "\n",
    "\n",
    "for m, s in list(zip(marker_l, strtgs.keys())):\n",
    "    \n",
    "    ax.plot(list(range(0, len(strtgs[s]['rmse_pro']))), strtgs[s]['rmse_pro'], m+'^', label=s +' rmse_pro')\n",
    "    ax.plot(list(range(0, len(strtgs[s]['rmse_unpro']))), strtgs[s]['rmse_unpro'], m, label=s +' rmse_unpro')\n",
    "              \n",
    "              \n",
    "ax.grid(True)\n",
    "legend = ax.legend(loc='best')\n",
    "plt.xlabel('# of iterations')\n",
    "plt.ylabel('RMSE')\n",
    "plt.title('RMSE Plors for Pro & Unpro')\n",
    "# plt.show()\n",
    "plt.savefig('./outputs_pers/pers_proUnpro_rmse_diff_ml.png', dpi=300)"
   ]
  },
  {
   "cell_type": "code",
   "execution_count": null,
   "id": "80ed337c-07f8-4825-8654-f4d8235dbf00",
   "metadata": {
    "tags": []
   },
   "outputs": [],
   "source": [
    "fig, ax = plt.subplots(figsize=(10, 8))\n",
    "marker_l = ['b-', 'c-', 'r-', 'g-', 'm-', 'y-']\n",
    "\n",
    "\n",
    "for m, s in list(zip(marker_l, strtgs.keys())):\n",
    "    \n",
    "    ax.plot(list(range(0, len(strtgs[s]['c_pro']))), strtgs[s]['c_pro'], m+'^', label=s+' c_pro')\n",
    "    ax.plot(list(range(0, len(strtgs[s]['c_unpro']))), strtgs[s]['c_unpro'], m, label=s+' c_unpro')\n",
    "\n",
    "           \n",
    "ax.grid(True)\n",
    "legend = ax.legend(loc='center left', bbox_to_anchor=(1, 0.5))\n",
    "# ax.legend(loc='upper center', bbox_to_anchor=(0.5, 1.05), ncol=3, fancybox=True, shadow=True)\n",
    "\n",
    "plt.xlabel('# of iterations')\n",
    "plt.ylabel('rating count')\n",
    "plt.title('Pro & Unpro Counts')\n",
    "plt.show()\n",
    "# plt.savefig('./plots/all_methods_sep_count_rmse_%score.png'%n_core, dpi=300)\n"
   ]
  },
  {
   "cell_type": "markdown",
   "id": "b971c07d-fed4-4248-9aa3-d48dcd457a66",
   "metadata": {},
   "source": [
    "# pro & upro counts"
   ]
  },
  {
   "cell_type": "code",
   "execution_count": 41,
   "id": "6b58d55b-c6b5-46c2-a112-59d615de8167",
   "metadata": {
    "tags": []
   },
   "outputs": [
    {
     "ename": "NameError",
     "evalue": "name 'strtgs' is not defined",
     "output_type": "error",
     "traceback": [
      "\u001b[0;31m---------------------------------------------------------------------------\u001b[0m",
      "\u001b[0;31mNameError\u001b[0m                                 Traceback (most recent call last)",
      "Cell \u001b[0;32mIn[41], line 1\u001b[0m\n\u001b[0;32m----> 1\u001b[0m \u001b[38;5;28mlist\u001b[39m(strtgs\u001b[38;5;241m.\u001b[39mkeys())\n",
      "\u001b[0;31mNameError\u001b[0m: name 'strtgs' is not defined"
     ]
    }
   ],
   "source": [
    "list(strtgs.keys())"
   ]
  },
  {
   "cell_type": "markdown",
   "id": "3215a9dc-75cc-4654-be37-24ddcf330435",
   "metadata": {},
   "source": [
    "# EQUAL RATIO EXPT"
   ]
  },
  {
   "cell_type": "markdown",
   "id": "954e07c6-dfc7-46a5-93df-711c19a42ffe",
   "metadata": {},
   "source": [
    "## equal ratio svd"
   ]
  },
  {
   "cell_type": "code",
   "execution_count": 46,
   "id": "f64b04bf-8b98-4a20-ace9-c5f80d3f3155",
   "metadata": {
    "tags": []
   },
   "outputs": [
    {
     "name": "stderr",
     "output_type": "stream",
     "text": [
      "while loop: 100%|███████████████████████████████| 25/25 [01:06<00:00,  2.67s/it]\n",
      "while loop: 100%|███████████████████████████████| 25/25 [01:07<00:00,  2.68s/it]\n",
      "while loop: 100%|███████████████████████████████| 25/25 [01:07<00:00,  2.70s/it]\n",
      "while loop: 100%|███████████████████████████████| 25/25 [01:09<00:00,  2.78s/it]\n",
      "/Users/sipei/micromamba/envs/fairness_env/lib/python3.8/multiprocessing/resource_tracker.py:216: UserWarning: resource_tracker: There appear to be 1 leaked semaphore objects to clean up at shutdown\n",
      "  warnings.warn('resource_tracker: There appear to be %d '\n",
      "/Users/sipei/micromamba/envs/fairness_env/lib/python3.8/multiprocessing/resource_tracker.py:216: UserWarning: resource_tracker: There appear to be 1 leaked semaphore objects to clean up at shutdown\n",
      "  warnings.warn('resource_tracker: There appear to be %d '\n",
      "/Users/sipei/micromamba/envs/fairness_env/lib/python3.8/multiprocessing/resource_tracker.py:216: UserWarning: resource_tracker: There appear to be 1 leaked semaphore objects to clean up at shutdown\n",
      "  warnings.warn('resource_tracker: There appear to be %d '\n",
      "/Users/sipei/micromamba/envs/fairness_env/lib/python3.8/multiprocessing/resource_tracker.py:216: UserWarning: resource_tracker: There appear to be 1 leaked semaphore objects to clean up at shutdown\n",
      "  warnings.warn('resource_tracker: There appear to be %d '\n"
     ]
    }
   ],
   "source": [
    "if __name__ == \"__main__\":\n",
    "    \n",
    "        \n",
    "    from tqdm import tqdm\n",
    "    import multiprocess as mp\n",
    "\n",
    "        \n",
    "    def comp_paral(strat):\n",
    "        #-------------------------DATA STRUCTURES---------------------------------\n",
    "        rmse = []\n",
    "        rmse_pro = []\n",
    "        rmse_unpro = []\n",
    "\n",
    "        pro_c = []\n",
    "        unpro_c = []\n",
    "\n",
    "\n",
    "        #-------------------------test set---------------------------------\n",
    "        # build the test set\n",
    "        testset = Dataset.load_from_df(test_df[['user', 'item', 'rating']], reader).build_full_trainset().build_testset()\n",
    "\n",
    "\n",
    "        #---------------------------KNOWN_DF-------------------------------\n",
    "        # the known set, a part of the training set\n",
    "        known_df = initial_train_df\n",
    "        known_sup = Dataset.load_from_df(known_df[['user', 'item', 'rating']], reader).build_full_trainset()\n",
    "\n",
    "\n",
    "        #---------------------------FIT THE MODEL------------------\n",
    "        # fit to the known data first\n",
    "        svd_sup.fit(known_sup)\n",
    "\n",
    "        # predictions\n",
    "        init_preds = svd_sup.test(testset) # ****\n",
    "\n",
    "\n",
    "        # get the RMSE\n",
    "        init_rmse = accuracy.rmse(init_preds, verbose=False) # ****\n",
    "        # rmse_d[strat].append(init_acc) # ****\n",
    "\n",
    "        rmse.append(init_rmse)\n",
    "        pro_, unpro_ = seperate_preds(init_preds)    \n",
    "        rmse_pro.append(accuracy.rmse(pro_, verbose=False))\n",
    "        rmse_unpro.append(accuracy.rmse(unpro_, verbose=False))\n",
    "\n",
    "\n",
    "        # pro/unpro count\n",
    "        # pro_c.append(known_df[known_df['user'].isin(pro_users_index)].shape[0])\n",
    "        # unpro_c.append(known_df[~known_df['user'].isin(pro_users_index)].shape[0])\n",
    "        pc = np.sum([1 if iid_to_gender[row.user] == 'F' else 0 for row in known_df.itertuples()])\n",
    "        upc = known_df.shape[0] - pc\n",
    "        pro_c.append(pc)\n",
    "        unpro_c.append(upc)\n",
    "        \n",
    "\n",
    "        \n",
    "        #------------------------pick equal ratio users---------------------------\n",
    "        # unpros: pick as many as you have protected users\n",
    "        unpros = random.sample(unpro_users_index, len(pro_users_index))\n",
    "\n",
    "        # pros shuffle them\n",
    "        # random.shuffle(pro_users_index)\n",
    "        #------------------------EPOCHS----------------------------------\n",
    "        epoch = 0\n",
    "\n",
    "\n",
    "        pbar = tqdm(desc='while loop', total=n_epochs)\n",
    "        while epoch < n_epochs:\n",
    "            # for uid in range(dataset.user_n):\n",
    "            for uid in unpros + pro_users_index:\n",
    "\n",
    "                #------------------------ recommendations-----------------------\n",
    "                u_preds = retrieve_topk(uid, train_df, known_df, known_sup, svd_sup, topk, strat)\n",
    "\n",
    "                #------------------------ update known_df -------------------------\n",
    "                # known_df will turn into known sup to be readable for surprise\n",
    "                known_df = pd.concat([known_df, u_preds[['user','item','rating']]]).drop_duplicates()\n",
    "\n",
    "\n",
    "            #------------------------ evaluate this iteration -------------------------\n",
    "            # print(len(known_df))\n",
    "            known_sup = Dataset.load_from_df(known_df[['user', 'item', 'rating']], reader).build_full_trainset()\n",
    "            svd_sup.fit(known_sup)\n",
    "            iter_preds = svd_sup.test(testset)\n",
    "            iter_rmse = accuracy.rmse(iter_preds, verbose=False) # ****\n",
    "            # rmse_d[strat].append(iter_rmse) # ****\n",
    "\n",
    "\n",
    "            rmse.append(iter_rmse)\n",
    "            pro_, unpro_ = seperate_preds(iter_preds)    \n",
    "            rmse_pro.append(accuracy.rmse(pro_, verbose=False))\n",
    "            rmse_unpro.append(accuracy.rmse(unpro_, verbose=False))\n",
    "\n",
    "\n",
    "            # accumulative\n",
    "            # pro/unpro count\n",
    "            # pro_c.append(known_df[known_df['user'].isin(pro_users_index)].shape[0])\n",
    "            # unpro_c.append(known_df[~known_df['user'].isin(pro_users_index)].shape[0])\n",
    "            pc = np.sum([1 if iid_to_gender[row.user] == 'F' else 0 for row in known_df.itertuples()])\n",
    "            upc = known_df.shape[0] - pc\n",
    "            pro_c.append(pc)\n",
    "            unpro_c.append(upc)\n",
    "\n",
    "\n",
    "            #------------------------ next iteration -------------------------\n",
    "            epoch += 1\n",
    "            pbar.update(1)\n",
    "\n",
    "\n",
    "        pbar.close()\n",
    "        return(strat, {'rmse':rmse, 'rmse_pro':rmse_pro, 'rmse_unpro': rmse_unpro, 'c_pro':pro_c, 'c_unpro':unpro_c})\n",
    "\n",
    "\n",
    "    # strtgs = {'MixedRating':{}, 'MinRating':{}, 'MaxRating':{}, 'Random': {}}\n",
    "    \n",
    "    pool = mp.Pool(processes=4)\n",
    "    strtgs = dict(pool.map(comp_paral, ['MixedRating', 'MinRating','MaxRating', 'Random']))\n",
    "    \n",
    "    \n",
    "    pool.close()\n",
    "    pool.join()\n",
    "    pool.terminate()\n",
    "    "
   ]
  },
  {
   "cell_type": "code",
   "execution_count": 47,
   "id": "0d37951b-3557-40f9-b7ee-1a9e9509e612",
   "metadata": {
    "tags": []
   },
   "outputs": [
    {
     "name": "stdout",
     "output_type": "stream",
     "text": [
      "MixedRating {'rmse': [1.0919093341832589, 1.0466144587646256, 1.0242744618658384, 1.0158439772024919, 1.006626296581885, 1.0008492472228308, 0.9949177846502553, 0.9895042133209099, 0.9864345656785355, 0.9840095041609118, 0.9826330081860042, 0.9808627341038352, 0.9789844951431179, 0.9773143648775, 0.9760989725361949, 0.9749332292940793, 0.9746903569176871, 0.9738396419798282, 0.9727025608363914, 0.9717380737966677, 0.9713401539377851, 0.9707899171100964, 0.9705407183232116, 0.9704193217840145, 0.9703995970839112, 0.9698985650666279], 'rmse_pro': [1.1253377609184638, 1.0609809024718684, 1.0328483304795326, 1.021322304708018, 1.0086076537264983, 1.00477323647864, 0.9964208101209151, 0.9880140178868333, 0.9838408894588261, 0.9798425709482859, 0.9794741998153486, 0.9776077848056486, 0.9750570767067592, 0.9722094554548709, 0.9708972646545274, 0.9700602817498071, 0.9689211766691883, 0.967746846768202, 0.9672111354802692, 0.9657651727396457, 0.9657656158234175, 0.9647756401442872, 0.9640282132507451, 0.9641147988679672, 0.9637560263356174, 0.9635050335100076], 'rmse_unpro': [1.0801898573891766, 1.0416346570715154, 1.0213132001648395, 1.0139556417379938, 1.005944908039014, 0.9994980166971448, 0.9944010531926498, 0.9900154967758829, 0.9873237802546863, 0.9854365537558335, 0.9837155466971579, 0.9819781427790311, 0.9803297195226581, 0.9790614824802134, 0.9778790923439418, 0.9766012119026606, 0.9766638940490513, 0.9759234098206063, 0.9745814278693743, 0.9737809879367264, 0.9732473378786564, 0.972846915889966, 0.9727673504695269, 0.9725751537199401, 0.9726708331790029, 0.9720846936328333], 'c_pro': [546, 3268, 5798, 7661, 9194, 10483, 11602, 12625, 13596, 14443, 15192, 15838, 16408, 16894, 17326, 17711, 18051, 18363, 18624, 18825, 18993, 19146, 19268, 19358, 19448, 19532], 'c_unpro': [1340, 4061, 6649, 8784, 10610, 12211, 13598, 14783, 15827, 16707, 17488, 18173, 18755, 19297, 19799, 20257, 20654, 20993, 21302, 21560, 21800, 22033, 22236, 22420, 22584, 22735]} \n",
      "\n",
      "MinRating {'rmse': [1.0919093341832589, 1.0500912368348714, 1.0355778694505045, 1.0213088475576573, 1.0135475905562898, 1.005852080804981, 1.0017272654868548, 0.9976992159322091, 0.995496336329944, 0.9932964450286723, 0.9900810773878588, 0.9876482138148154, 0.9851372493815034, 0.9833344466565971, 0.9811894697570739, 0.9802727014142347, 0.9791141719275512, 0.9781170837723075, 0.9773605854817589, 0.9762118284589556, 0.9757452375286348, 0.975423319815365, 0.9745234506309796, 0.9742708183333274, 0.9737831516380328, 0.9736184681752382], 'rmse_pro': [1.1253377609184638, 1.0560109551228527, 1.0382139374941077, 1.0244500208916627, 1.0157052945050877, 1.0114598329417972, 1.0046883025792082, 0.996841977916829, 0.9947998602225925, 0.9923727046812233, 0.9876382308598779, 0.9847410952828634, 0.9812459224188397, 0.9782600186607212, 0.9735763276800117, 0.9734184045112828, 0.9733728373584473, 0.9706081234927818, 0.9698316694654779, 0.9675366238058083, 0.9681700450936083, 0.9675945479335382, 0.9655575750491121, 0.9650817379329231, 0.964741567839133, 0.9641049351784815], 'rmse_unpro': [1.0801898573891766, 1.0480504223967015, 1.0346709743302105, 1.0202277944972722, 1.0128054763324654, 1.0039188970472843, 1.0007082893019448, 0.9979934606085848, 0.9957354255359545, 0.9936135013841314, 0.9909186727447585, 0.9886446785094394, 0.9864701668948854, 0.9850712056787987, 0.9837905776481156, 0.9826157486151794, 0.9810782563288967, 0.9806827384309371, 0.9799330130527106, 0.9791735571305501, 0.9783333718884827, 0.9780976203260725, 0.9775837700176727, 0.9774068365282823, 0.9768691368370518, 0.9768644740541637], 'c_pro': [546, 3276, 5800, 7661, 9194, 10483, 11602, 12625, 13596, 14443, 15192, 15838, 16408, 16894, 17326, 17711, 18051, 18363, 18624, 18825, 18993, 19146, 19268, 19358, 19448, 19532], 'c_unpro': [1340, 4070, 6645, 8663, 10319, 11739, 12952, 14041, 15056, 15963, 16798, 17583, 18295, 18939, 19514, 20031, 20505, 20933, 21317, 21656, 21950, 22239, 22501, 22730, 22930, 23093]} \n",
      "\n",
      "MaxRating {'rmse': [1.0919093341832589, 1.0601000059013148, 1.045478348461694, 1.0295717553841983, 1.0207670590435844, 1.014039974229527, 1.0053237198943836, 0.9985493547100784, 0.9943444620876338, 0.9892006297885773, 0.984150358698743, 0.9818517760105465, 0.979849808574146, 0.9783260107584967, 0.9756492104048868, 0.9734351422868481, 0.9722215366710507, 0.9719423117737714, 0.9709839797020183, 0.9704174103821233, 0.9701837122523052, 0.9697210658217125, 0.9694866832587663, 0.9688030412771751, 0.9682865755622586, 0.967605917124324], 'rmse_pro': [1.1253377609184638, 1.0733194218430981, 1.0510198006130689, 1.031425344709571, 1.0221411902458801, 1.0150613106855795, 1.006801029031186, 1.0016003178356205, 0.9963388660880266, 0.991317346931948, 0.985176982010349, 0.9828190696786366, 0.9789399391078976, 0.9771065133143728, 0.974717994648302, 0.9717901749655529, 0.9698114400498528, 0.9681612692835948, 0.9664108267548961, 0.9661189556589856, 0.9657873287405756, 0.9645462978294063, 0.9642053755474077, 0.9640080083904338, 0.963570724593133, 0.9624183500224615], 'rmse_unpro': [1.0801898573891766, 1.0555216626272856, 1.0435683731085335, 1.0289343781015812, 1.0202946928981056, 1.0136889634076969, 1.0048158436253711, 0.9974993622932078, 0.9936585694853783, 0.9884726070823054, 0.9837975223780147, 0.9815193434212475, 0.9801621043051068, 0.9787444911400437, 0.9759688272964234, 0.9739994580105956, 0.9730478963850913, 0.9732375050037743, 0.9725496475875716, 0.9718893095033813, 0.9716890415147461, 0.9714919576596538, 0.9712938997976508, 0.9704444079318579, 0.9699009236085792, 0.9693811593488527], 'c_pro': [546, 3276, 5800, 7661, 9194, 10483, 11602, 12625, 13596, 14443, 15192, 15838, 16408, 16894, 17326, 17711, 18051, 18363, 18624, 18825, 18993, 19146, 19268, 19358, 19448, 19532], 'c_unpro': [1340, 4070, 6662, 8800, 10633, 12193, 13555, 14792, 15912, 16927, 17868, 18726, 19473, 20129, 20708, 21226, 21686, 22109, 22487, 22824, 23114, 23397, 23652, 23857, 24035, 24191]} \n",
      "\n",
      "Random {'rmse': [1.0919093341832589, 1.0389186316006829, 1.0239342419397637, 1.015123232085217, 1.010155947337333, 1.003573050763837, 0.997609043822568, 0.9939026958248387, 0.9892269939096128, 0.9855919503722597, 0.9836005705248932, 0.9806597961882847, 0.9796202781157292, 0.9783126016018253, 0.9760003147957435, 0.9749450194642008, 0.9739631611081925, 0.9721534849415749, 0.9721114919206418, 0.9716067957674493, 0.9706355105065856, 0.9700379451889711, 0.969545617605259, 0.9691740765020297, 0.9691128815744386, 0.9689376017112685], 'rmse_pro': [1.1253377609184638, 1.047679823007118, 1.0321425549610055, 1.0232542411001575, 1.015646648629861, 1.0093092867460862, 1.0020211154018686, 0.9966224746548002, 0.9898244220256253, 0.9867564717118246, 0.9857186467191771, 0.981279526963529, 0.981761507261159, 0.9805783994981382, 0.976950365872088, 0.9762004978101327, 0.974223618533663, 0.9712301994600209, 0.9714265669490951, 0.9715795890027397, 0.9699444497963958, 0.9694071229788727, 0.9688454600916148, 0.9685087471856568, 0.9684102471897884, 0.9674013588948228], 'rmse_unpro': [1.0801898573891766, 1.0358925452526104, 1.0210999112346102, 1.0123156068511612, 1.0082632925442745, 1.0015953873303796, 0.9960892291236042, 0.9929668813725061, 0.9890217266490132, 0.9851916831876643, 0.9828720737492497, 0.9804468620638767, 0.9788838020312847, 0.9775332118861491, 0.9756738105966898, 0.9745134579155428, 0.9738736921043158, 0.9724703809672182, 0.9723466150234664, 0.9716161396329225, 0.970872738726174, 0.9702545036271943, 0.9697859669433754, 0.9694024755237848, 0.96935408070391, 0.9694646558005756], 'c_pro': [546, 3276, 5800, 7661, 9194, 10483, 11602, 12625, 13596, 14443, 15192, 15838, 16408, 16894, 17326, 17711, 18051, 18363, 18624, 18825, 18993, 19146, 19268, 19358, 19448, 19532], 'c_unpro': [1340, 4070, 6637, 8635, 10361, 11876, 13226, 14445, 15596, 16633, 17590, 18457, 19201, 19859, 20427, 20934, 21373, 21759, 22108, 22409, 22672, 22918, 23150, 23343, 23511, 23657]} \n",
      "\n"
     ]
    }
   ],
   "source": [
    "for k, v in strtgs.items():\n",
    "    print(k, v,'\\n')"
   ]
  },
  {
   "cell_type": "markdown",
   "id": "8f4c3a69-b891-4249-8d5a-25ca65b19249",
   "metadata": {},
   "source": [
    "## knn - ratio"
   ]
  },
  {
   "cell_type": "code",
   "execution_count": 48,
   "id": "83a406db-f363-4357-ac54-fbf4e447c4c2",
   "metadata": {
    "tags": []
   },
   "outputs": [
    {
     "name": "stdout",
     "output_type": "stream",
     "text": [
      "strategy Knn\n"
     ]
    },
    {
     "name": "stderr",
     "output_type": "stream",
     "text": [
      "while loop: 100%|███████████████████████████| 25/25 [7:07:06<00:00, 1025.05s/it]\n"
     ]
    }
   ],
   "source": [
    "from tqdm import tqdm\n",
    "\n",
    "\n",
    "strat = 'Knn'\n",
    "strtgs[strat] = {}\n",
    "\n",
    "\n",
    "for strat in ['Knn']:\n",
    "    print('strategy',strat)\n",
    "\n",
    "\n",
    "    #-------------------------DATA STRUCTURES---------------------------------\n",
    "    rmse = []\n",
    "    rmse_pro = []\n",
    "    rmse_unpro = []\n",
    "\n",
    "    pro_c = []\n",
    "    unpro_c = []\n",
    "\n",
    "    #-------------------------neibours---------------------------------\n",
    "    # rmse = []\n",
    "\n",
    "    # set the maximum number of epochs that can capture as much rating as possible!\n",
    "    # n_epochs = 10\n",
    "\n",
    "    # w = 10   # window of w items (our queries)\n",
    "    # topk = w\n",
    "\n",
    "    #-------------------------model building---------------------------------\n",
    "    # reader = Reader(rating_scale=(1, 5))\n",
    "    # svd_sup = SVD(n_epochs = 100, n_factors = 100, lr_all=0.005, reg_all=0.1, verbose = False, random_state=41023)\n",
    "\n",
    "\n",
    "    #-------------------------test set---------------------------------\n",
    "    # build the test set\n",
    "    testset = Dataset.load_from_df(test_df[['user', 'item', 'rating']], reader).build_full_trainset().build_testset()\n",
    "\n",
    "    \n",
    "    #---------------------------KNOWN_DF-------------------------------\n",
    "    # the known set, a part of the training set\n",
    "    known_df = initial_train_df\n",
    "    known_sup = Dataset.load_from_df(known_df[['user', 'item', 'rating']], reader).build_full_trainset()\n",
    "\n",
    "\n",
    "    #---------------------------FIT THE MODEL------------------\n",
    "    # fit to the known data first\n",
    "    svd_sup.fit(known_sup)\n",
    "\n",
    "    # predictions\n",
    "    init_preds = svd_sup.test(testset) # ****\n",
    "\n",
    "    # get the RMSE\n",
    "    init_rmse = accuracy.rmse(init_preds, verbose=False) # ****\n",
    "\n",
    "    \n",
    "    # append\n",
    "    rmse.append(init_rmse)\n",
    "    pro_, unpro_ = seperate_preds_v2(init_preds)    \n",
    "    rmse_pro.append(accuracy.rmse(pro_, verbose=False))\n",
    "    rmse_unpro.append(accuracy.rmse(unpro_, verbose=False))\n",
    "\n",
    "\n",
    "    # pro/unpro count\n",
    "    # pro_c.append(known_df[known_df['user'].isin(pro_users_index)].shape[0])\n",
    "    # unpro_c.append(known_df[~known_df['user'].isin(pro_users_index)].shape[0])\n",
    "    pc = np.sum([1 if iid_to_gender[row.user] == 'F' else 0 for row in known_df.itertuples()])\n",
    "    upc = known_df.shape[0] - pc\n",
    "    pro_c.append(pc)\n",
    "    unpro_c.append(upc)\n",
    "\n",
    "    \n",
    "    #------------------------pick equal ratio users---------------------------\n",
    "    # unpros: pick as many as you have protected users\n",
    "    unpros = random.sample(unpro_users_index, len(pro_users_index))\n",
    "\n",
    "    #------------------------ EPOCHS ----------------------------------\n",
    "    epoch = 0\n",
    "\n",
    "    pbar = tqdm(desc='while loop', total=n_epochs)\n",
    "    while epoch < n_epochs:\n",
    "        # print(f\" epoch {epoch} \".center(40, '*'))\n",
    "\n",
    "        # for uid in range(dataset.user_n):\n",
    "        for uid in unpros + pro_users_index:\n",
    "            \n",
    "        # for uid in range(10):\n",
    "            # print('uid', uid)\n",
    "\n",
    "            #------------------------ recommendations-----------------------\n",
    "            # (uid, tr_df, kwn_df, algo, k)\n",
    "            # print(known_df.shape)\n",
    "            u_preds = retrieve_topKnn(uid, train_df, known_df, itm_sim_mat, svd_sup, topk)\n",
    "            # print('nns of this user',u_preds.shape, u_preds)\n",
    "\n",
    "            #------------------------update known_df-------------------------\n",
    "            # known_df will turn into known sup to be readable for surprise\n",
    "            known_df = pd.concat([known_df, u_preds[['user','item','rating']]]).drop_duplicates()\n",
    "\n",
    "            \n",
    "        #------------------------evaluate this iteration-------------------------\n",
    "        # print(len(known_df), np.unique(known_df['item']).shape)\n",
    "        known_sup = Dataset.load_from_df(known_df[['user', 'item', 'rating']], reader).build_full_trainset()\n",
    "        svd_sup.fit(known_sup)\n",
    "        iter_preds = svd_sup.test(testset)\n",
    "        iter_rmse = accuracy.rmse(iter_preds, verbose=False) # ****\n",
    "\n",
    "        \n",
    "        rmse.append(iter_rmse)\n",
    "        pro_, unpro_ = seperate_preds_v2(iter_preds)    \n",
    "        rmse_pro.append(accuracy.rmse(pro_, verbose=False))\n",
    "        rmse_unpro.append(accuracy.rmse(unpro_, verbose=False))\n",
    "\n",
    "\n",
    "        # accumulative\n",
    "        # pro/unpro count\n",
    "        # pro_c.append(known_df[known_df['user'].isin(pro_users_index)].shape[0])\n",
    "        # unpro_c.append(known_df[~known_df['user'].isin(pro_users_index)].shape[0])\n",
    "        pc = np.sum([1 if iid_to_gender[row.user] == 'F' else 0 for row in known_df.itertuples()])\n",
    "        upc = known_df.shape[0] - pc\n",
    "        pro_c.append(pc)\n",
    "        unpro_c.append(upc)\n",
    "        \n",
    "        \n",
    "        strtgs[strat] = {'rmse':rmse, 'rmse_pro':rmse_pro, 'rmse_unpro': rmse_unpro, 'c_pro':pro_c, 'c_unpro':unpro_c}\n",
    "        \n",
    "        #------------------------ next iteration -------------------------\n",
    "        epoch += 1\n",
    "        pbar.update(1)\n",
    "\n",
    "    pbar.close()\n"
   ]
  },
  {
   "cell_type": "code",
   "execution_count": null,
   "id": "53df51f9-1bc8-4b8c-809b-99a90c897f6a",
   "metadata": {
    "tags": []
   },
   "outputs": [],
   "source": [
    "strtgs['Knn']"
   ]
  },
  {
   "cell_type": "code",
   "execution_count": 49,
   "id": "5fbbbf80-55b5-4fc2-9c10-c23fc42b8474",
   "metadata": {
    "tags": []
   },
   "outputs": [],
   "source": [
    "pd.DataFrame.from_dict(strtgs['Knn']).to_csv('./outputs_pers/knn_exp2_iter1_sipei.csv',index=False)"
   ]
  },
  {
   "cell_type": "code",
   "execution_count": null,
   "id": "e657c36d-f043-4276-92e8-6ab1bc9104eb",
   "metadata": {
    "tags": []
   },
   "outputs": [],
   "source": [
    "for k, v in strtgs.items():\n",
    "    print(k, v,'\\n')"
   ]
  },
  {
   "cell_type": "markdown",
   "id": "fb063de3-a06d-4bb1-b91c-0d3e7eb8cf07",
   "metadata": {},
   "source": [
    "## plots"
   ]
  },
  {
   "cell_type": "code",
   "execution_count": null,
   "id": "59c205ab-8209-4200-adb9-42dd5c4ab511",
   "metadata": {
    "tags": []
   },
   "outputs": [],
   "source": [
    "fig, ax = plt.subplots(figsize=(10,7))\n",
    "marker_l = ['b-o', 'c-o', 'r-o', 'g-o',  'm-o', 'y-o']\n",
    "\n",
    "# y_axis = list(range(0, n_epochs+1))\n",
    "\n",
    "\n",
    "for m, s in list(zip(marker_l, strtgs.keys())):\n",
    "    ax.plot(list(range(0, len(strtgs[s]['rmse']))), strtgs[s]['rmse'], m, label=s)   \n",
    "\n",
    "# ax.plot(list(range(0, len(strtgs[s]['rmse']))), [fin_acc]*len(list(range(0, len(strtgs[s]['rmse'])))),'-', label='all-tr')   \n",
    "          \n",
    "              \n",
    "ax.grid(True)\n",
    "legend = ax.legend(loc='best')\n",
    "plt.xlabel('# of iterations')\n",
    "plt.ylabel('RMSE')\n",
    "# plt.title('Non-personalized AL Strategies')\n",
    "\n",
    "plt.show()\n",
    "# plt.savefig('./plots/NonPersolized-all-%score.png'%n_core, dpi=300)"
   ]
  },
  {
   "cell_type": "code",
   "execution_count": null,
   "id": "8a328957-3cce-4619-8f2d-d9829584114d",
   "metadata": {
    "tags": []
   },
   "outputs": [],
   "source": [
    "fig, ax = plt.subplots(figsize=(10,7))\n",
    "marker_l = ['b-o', 'c-o', 'r-o', 'g-o', 'm-o', 'y-o']\n",
    "\n",
    "# y_axis = list(range(0, dataset.item_n, w))\n",
    "\n",
    "for m, s in list(zip(marker_l, strtgs.keys())):\n",
    "    \n",
    "    rmse_diff = [a-b for a, b in zip(strtgs[s]['rmse_pro'], strtgs[s]['rmse_unpro'])]\n",
    "    ax.plot(list(range(0, len(strtgs[s]['rmse']))), rmse_diff, m, label=s)\n",
    "    # ax.plot(y_axis[:], rmse_diff, m, label=results[i][0])\n",
    "              \n",
    "              \n",
    "ax.grid(True)\n",
    "legend = ax.legend(loc='best')\n",
    "plt.xlabel('# of iterations')\n",
    "plt.ylabel('RMSE difference')\n",
    "plt.title('Unfairness in different AL methods')\n",
    "\n",
    "plt.show()\n",
    "# plt.savefig('./plots/rmse_diff_all_rmse_%score.png'%n_core, dpi=300)"
   ]
  },
  {
   "cell_type": "code",
   "execution_count": null,
   "id": "910a7f94-3f03-4132-9f26-1d654faf476c",
   "metadata": {
    "tags": []
   },
   "outputs": [],
   "source": [
    "fig, ax = plt.subplots(figsize=(10,7))\n",
    "marker_l = ['b-', 'c-', 'r-', 'g-', 'm-', 'y-']\n",
    "\n",
    "# y_axis = list(range(0, dataset.item_n, w))\n",
    "# list(range(0, len(results[i][1]['rmse'])))\n",
    "\n",
    "\n",
    "for m, s in list(zip(marker_l, strtgs.keys())):\n",
    "    \n",
    "    ax.plot(list(range(0, len(strtgs[s]['rmse_pro']))), strtgs[s]['rmse_pro'], m+'^', label=s +' rmse_pro')\n",
    "    ax.plot(list(range(0, len(strtgs[s]['rmse_unpro']))), strtgs[s]['rmse_unpro'], m, label=s +' rmse_unpro')\n",
    "              \n",
    "              \n",
    "ax.grid(True)\n",
    "legend = ax.legend(loc='best')\n",
    "plt.xlabel('# of iterations')\n",
    "plt.ylabel('RMSE')\n",
    "plt.title('RMSE Plors for Pro & Unpro')\n",
    "plt.show()\n",
    "# plt.savefig('./plots/all_methods_sep_rmse_%score.png'%n_core, dpi=300)"
   ]
  },
  {
   "cell_type": "code",
   "execution_count": null,
   "id": "3c253d5a-2edb-47b0-90e3-5b0355ca0f19",
   "metadata": {
    "tags": []
   },
   "outputs": [],
   "source": [
    "fig, ax = plt.subplots(figsize=(10, 8))\n",
    "marker_l = ['b-', 'c-', 'r-', 'g-', 'm-', 'y-']\n",
    "\n",
    "\n",
    "for m, s in list(zip(marker_l, strtgs.keys())):\n",
    "    \n",
    "    ax.plot(list(range(0, len(strtgs[s]['c_pro']))), strtgs[s]['c_pro'], m+'^', label=s+' c_pro')\n",
    "    ax.plot(list(range(0, len(strtgs[s]['c_unpro']))), strtgs[s]['c_unpro'], m, label=s+' c_unpro')\n",
    "\n",
    "           \n",
    "ax.grid(True)\n",
    "legend = ax.legend(loc='center left', bbox_to_anchor=(1, 0.5))\n",
    "# ax.legend(loc='upper center', bbox_to_anchor=(0.5, 1.05), ncol=3, fancybox=True, shadow=True)\n",
    "\n",
    "plt.xlabel('# of iterations')\n",
    "plt.ylabel('rating count')\n",
    "plt.title('Pro & Unpro Counts')\n",
    "plt.show()\n",
    "# plt.savefig('./plots/all_methods_sep_count_rmse_%score.png'%n_core, dpi=300)\n"
   ]
  },
  {
   "cell_type": "markdown",
   "id": "ff767a94-d800-4094-a36a-2687336835ef",
   "metadata": {},
   "source": [
    "# same ratio knownset"
   ]
  },
  {
   "cell_type": "code",
   "execution_count": null,
   "id": "dfc6fe1e-de3c-4d64-8ee4-721a1596440f",
   "metadata": {},
   "outputs": [],
   "source": []
  }
 ],
 "metadata": {
  "kernelspec": {
   "display_name": "Python 3 (ipykernel)",
   "language": "python",
   "name": "python3"
  },
  "language_info": {
   "codemirror_mode": {
    "name": "ipython",
    "version": 3
   },
   "file_extension": ".py",
   "mimetype": "text/x-python",
   "name": "python",
   "nbconvert_exporter": "python",
   "pygments_lexer": "ipython3",
   "version": "3.8.18"
  },
  "toc": {
   "base_numbering": 1,
   "nav_menu": {},
   "number_sections": true,
   "sideBar": true,
   "skip_h1_title": false,
   "title_cell": "Table of Contents",
   "title_sidebar": "Contents",
   "toc_cell": false,
   "toc_position": {},
   "toc_section_display": true,
   "toc_window_display": false
  },
  "vscode": {
   "interpreter": {
    "hash": "f96e607b91a2e2d3251db7ddf844b8ed38c6c958a32172526e41c91f117aef26"
   }
  }
 },
 "nbformat": 4,
 "nbformat_minor": 5
}
